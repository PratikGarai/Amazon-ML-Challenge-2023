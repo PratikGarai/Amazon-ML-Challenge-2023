{
  "nbformat": 4,
  "nbformat_minor": 0,
  "metadata": {
    "colab": {
      "provenance": []
    },
    "kernelspec": {
      "name": "python3",
      "display_name": "Python 3"
    },
    "language_info": {
      "name": "python"
    }
  },
  "cells": [
    {
      "cell_type": "code",
      "execution_count": 1,
      "metadata": {
        "colab": {
          "base_uri": "https://localhost:8080/"
        },
        "id": "Yun3KJcuRB22",
        "outputId": "432844b8-c5e2-4505-960d-871a9ae3f06e"
      },
      "outputs": [
        {
          "output_type": "stream",
          "name": "stdout",
          "text": [
            "Mounted at /gdrive\n"
          ]
        }
      ],
      "source": [
        "from google.colab import drive\n",
        "drive.mount('/gdrive')"
      ]
    },
    {
      "cell_type": "code",
      "source": [
        "!mkdir dataset\n",
        "!cp /gdrive/MyDrive/Amazon_data/*.csv dataset"
      ],
      "metadata": {
        "id": "g3BML-yzRG_Z"
      },
      "execution_count": 2,
      "outputs": []
    },
    {
      "cell_type": "code",
      "source": [
        "import pandas as pd\n",
        "import numpy as np\n",
        "from tqdm import tqdm\n",
        "\n",
        "tqdm.pandas()"
      ],
      "metadata": {
        "id": "XeJlMTu9Rans"
      },
      "execution_count": 22,
      "outputs": []
    },
    {
      "cell_type": "code",
      "source": [
        "train = pd.read_csv(\"dataset/train_processed.csv\")\n",
        "test = pd.read_csv(\"dataset/test_processed.csv\")"
      ],
      "metadata": {
        "id": "J2bYPdPARiFR"
      },
      "execution_count": 4,
      "outputs": []
    },
    {
      "cell_type": "code",
      "source": [
        "train.info()"
      ],
      "metadata": {
        "colab": {
          "base_uri": "https://localhost:8080/"
        },
        "id": "kGvmDEzOSSD2",
        "outputId": "b66329f1-dc68-4a58-c6a9-780e19fa03a9"
      },
      "execution_count": 5,
      "outputs": [
        {
          "output_type": "stream",
          "name": "stdout",
          "text": [
            "<class 'pandas.core.frame.DataFrame'>\n",
            "RangeIndex: 2137182 entries, 0 to 2137181\n",
            "Data columns (total 4 columns):\n",
            " #   Column           Dtype  \n",
            "---  ------           -----  \n",
            " 0   PRODUCT_TYPE_ID  int64  \n",
            " 1   PRODUCT_LENGTH   float64\n",
            " 2   DATA             object \n",
            " 3   DATA_L           int64  \n",
            "dtypes: float64(1), int64(2), object(1)\n",
            "memory usage: 65.2+ MB\n"
          ]
        }
      ]
    },
    {
      "cell_type": "code",
      "source": [
        "test.info()"
      ],
      "metadata": {
        "colab": {
          "base_uri": "https://localhost:8080/"
        },
        "id": "c6Wwcf8NSVmk",
        "outputId": "3c627990-b56b-4934-ed10-cabec2b5fb21"
      },
      "execution_count": 6,
      "outputs": [
        {
          "output_type": "stream",
          "name": "stdout",
          "text": [
            "<class 'pandas.core.frame.DataFrame'>\n",
            "RangeIndex: 734736 entries, 0 to 734735\n",
            "Data columns (total 3 columns):\n",
            " #   Column           Non-Null Count   Dtype \n",
            "---  ------           --------------   ----- \n",
            " 0   PRODUCT_TYPE_ID  734736 non-null  int64 \n",
            " 1   PRODUCT_ID       734736 non-null  int64 \n",
            " 2   DATA             734733 non-null  object\n",
            "dtypes: int64(2), object(1)\n",
            "memory usage: 16.8+ MB\n"
          ]
        }
      ]
    },
    {
      "cell_type": "code",
      "source": [
        "trainpid = set(train[\"PRODUCT_TYPE_ID\"])\n",
        "testpid = set(test[\"PRODUCT_TYPE_ID\"])"
      ],
      "metadata": {
        "id": "CQmGIbv8SWf3"
      },
      "execution_count": 7,
      "outputs": []
    },
    {
      "cell_type": "code",
      "source": [
        "print(len(trainpid), len(testpid), len(trainpid.intersection(testpid)))"
      ],
      "metadata": {
        "colab": {
          "base_uri": "https://localhost:8080/"
        },
        "id": "2xvujKjPStU3",
        "outputId": "778fe0d4-f530-4cb8-d767-c56ed2291681"
      },
      "execution_count": 10,
      "outputs": [
        {
          "output_type": "stream",
          "name": "stdout",
          "text": [
            "12693 10565 10004\n"
          ]
        }
      ]
    },
    {
      "cell_type": "code",
      "source": [
        "len(testpid - trainpid)"
      ],
      "metadata": {
        "colab": {
          "base_uri": "https://localhost:8080/"
        },
        "id": "-Vz_LFUFSw0X",
        "outputId": "bc9e8ee6-7be7-431f-e803-afa66ae7b2fc"
      },
      "execution_count": 14,
      "outputs": [
        {
          "output_type": "execute_result",
          "data": {
            "text/plain": [
              "561"
            ]
          },
          "metadata": {},
          "execution_count": 14
        }
      ]
    },
    {
      "cell_type": "code",
      "source": [
        "len(trainpid - testpid)"
      ],
      "metadata": {
        "colab": {
          "base_uri": "https://localhost:8080/"
        },
        "id": "iptwNTW0YZDa",
        "outputId": "7abf8f90-bf47-4820-b833-a516854ca5a0"
      },
      "execution_count": 16,
      "outputs": [
        {
          "output_type": "execute_result",
          "data": {
            "text/plain": [
              "2689"
            ]
          },
          "metadata": {},
          "execution_count": 16
        }
      ]
    },
    {
      "cell_type": "code",
      "source": [
        "GLOBAL = train.describe()\n",
        "LOCAL = {}\n",
        "for i in tqdm(trainpid) : \n",
        "  LOCAL[i] = train[train[\"PRODUCT_TYPE_ID\"] == i].describe()"
      ],
      "metadata": {
        "colab": {
          "base_uri": "https://localhost:8080/"
        },
        "id": "W_hOw05bYdon",
        "outputId": "78c65185-f193-4e81-e652-b9794f69e319"
      },
      "execution_count": 21,
      "outputs": [
        {
          "output_type": "stream",
          "name": "stderr",
          "text": [
            "100%|██████████| 12693/12693 [02:50<00:00, 74.43it/s]\n"
          ]
        }
      ]
    },
    {
      "cell_type": "code",
      "source": [
        "def predict_length(x) :\n",
        "  id = x[\"PRODUCT_TYPE_ID\"]\n",
        "  if id in trainpid : \n",
        "    return LOCAL[id][\"PRODUCT_LENGTH\"][\"mean\"]\n",
        "  return GLOBAL\n",
        "\n",
        "test[\"PRODUCT_LENGTH\"] = test.progress_apply(predict_length, axis = 1)"
      ],
      "metadata": {
        "colab": {
          "base_uri": "https://localhost:8080/"
        },
        "id": "dC3Ym3eubzgQ",
        "outputId": "f9fe8bd0-a823-4b4b-f2a0-c820338fca0b"
      },
      "execution_count": 25,
      "outputs": [
        {
          "output_type": "stream",
          "name": "stderr",
          "text": [
            "100%|██████████| 734736/734736 [00:17<00:00, 42638.71it/s]\n"
          ]
        }
      ]
    },
    {
      "cell_type": "code",
      "source": [
        "test.isna().sum()"
      ],
      "metadata": {
        "colab": {
          "base_uri": "https://localhost:8080/"
        },
        "id": "_QMYyXAQb5dd",
        "outputId": "c9a9c484-3723-4955-e475-c772da4e2e03"
      },
      "execution_count": 26,
      "outputs": [
        {
          "output_type": "execute_result",
          "data": {
            "text/plain": [
              "PRODUCT_TYPE_ID    0\n",
              "PRODUCT_ID         0\n",
              "DATA               3\n",
              "PRODUCT_LENGTH     0\n",
              "dtype: int64"
            ]
          },
          "metadata": {},
          "execution_count": 26
        }
      ]
    },
    {
      "cell_type": "code",
      "source": [
        "test = test[[\"PRODUCT_ID\", \"PRODUCT_LENGTH\"]]"
      ],
      "metadata": {
        "id": "UW9leuZCeyzO"
      },
      "execution_count": 28,
      "outputs": []
    },
    {
      "cell_type": "code",
      "source": [
        "test.to_csv(\"submission.csv\", index=False)"
      ],
      "metadata": {
        "id": "_13EtyL0fVfD"
      },
      "execution_count": 29,
      "outputs": []
    }
  ]
}