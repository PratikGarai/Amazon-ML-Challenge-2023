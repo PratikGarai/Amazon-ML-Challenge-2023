{
  "nbformat": 4,
  "nbformat_minor": 0,
  "metadata": {
    "colab": {
      "provenance": [],
      "collapsed_sections": [
        "ibiklORx7OcE"
      ]
    },
    "kernelspec": {
      "name": "python3",
      "display_name": "Python 3"
    },
    "language_info": {
      "name": "python"
    }
  },
  "cells": [
    {
      "cell_type": "markdown",
      "source": [
        "# Get Dataset"
      ],
      "metadata": {
        "id": "cttkPp-6hd-S"
      }
    },
    {
      "cell_type": "code",
      "execution_count": 1,
      "metadata": {
        "colab": {
          "base_uri": "https://localhost:8080/"
        },
        "id": "MGylHloI96yJ",
        "outputId": "d4087f86-0a2d-44d5-904c-52c5b528bb7b"
      },
      "outputs": [
        {
          "output_type": "stream",
          "name": "stdout",
          "text": [
            "--2023-04-21 19:43:09--  https://s3-ap-southeast-1.amazonaws.com/he-public-data/datasetb2d9982.zip\n",
            "Resolving s3-ap-southeast-1.amazonaws.com (s3-ap-southeast-1.amazonaws.com)... 52.219.124.130\n",
            "Connecting to s3-ap-southeast-1.amazonaws.com (s3-ap-southeast-1.amazonaws.com)|52.219.124.130|:443... connected.\n",
            "HTTP request sent, awaiting response... 200 OK\n",
            "Length: 895569552 (854M) [binary/octet-stream]\n",
            "Saving to: ‘datasetb2d9982.zip’\n",
            "\n",
            "datasetb2d9982.zip  100%[===================>] 854.08M  13.0MB/s    in 66s     \n",
            "\n",
            "2023-04-21 19:44:16 (12.9 MB/s) - ‘datasetb2d9982.zip’ saved [895569552/895569552]\n",
            "\n"
          ]
        }
      ],
      "source": [
        "!wget https://s3-ap-southeast-1.amazonaws.com/he-public-data/datasetb2d9982.zip"
      ]
    },
    {
      "cell_type": "code",
      "source": [
        "!unzip datasetb2d9982.zip"
      ],
      "metadata": {
        "colab": {
          "base_uri": "https://localhost:8080/"
        },
        "id": "eUTBfatW9--L",
        "outputId": "ca81b145-dfc0-466e-c79f-6edebf28bc3f"
      },
      "execution_count": 2,
      "outputs": [
        {
          "output_type": "stream",
          "name": "stdout",
          "text": [
            "Archive:  datasetb2d9982.zip\n",
            "   creating: dataset/\n",
            "  inflating: dataset/sample_submission.csv  \n",
            "  inflating: dataset/train.csv       \n",
            "  inflating: dataset/test.csv        \n"
          ]
        }
      ]
    },
    {
      "cell_type": "markdown",
      "source": [
        "# Imports"
      ],
      "metadata": {
        "id": "5JOxPb1ahhRE"
      }
    },
    {
      "cell_type": "code",
      "source": [
        "import pandas as pd\n",
        "import seaborn as sns\n",
        "import matplotlib.pyplot as plt\n",
        "import numpy as np\n",
        "from tqdm import tqdm"
      ],
      "metadata": {
        "id": "02OIGv89-fUF"
      },
      "execution_count": 33,
      "outputs": []
    },
    {
      "cell_type": "markdown",
      "source": [
        "# Load Dataset"
      ],
      "metadata": {
        "id": "46r7_3u-hipz"
      }
    },
    {
      "cell_type": "code",
      "source": [
        "train = pd.read_csv(\"dataset/train.csv\")\n",
        "test = pd.read_csv(\"dataset/test.csv\")\n",
        "sample = pd.read_csv(\"dataset/sample_submission.csv\")"
      ],
      "metadata": {
        "id": "zxhhn-rr-xse"
      },
      "execution_count": 4,
      "outputs": []
    },
    {
      "cell_type": "markdown",
      "source": [
        "# Analysis"
      ],
      "metadata": {
        "id": "cY6bJn5F7D9R"
      }
    },
    {
      "cell_type": "markdown",
      "source": [
        "## Basic Info"
      ],
      "metadata": {
        "id": "9-CzDC6zhkZw"
      }
    },
    {
      "cell_type": "code",
      "source": [
        "train.info()"
      ],
      "metadata": {
        "colab": {
          "base_uri": "https://localhost:8080/"
        },
        "id": "gRsqvuj_-0yR",
        "outputId": "0a65553b-011e-485f-fc81-c271352d8a7f"
      },
      "execution_count": 5,
      "outputs": [
        {
          "output_type": "stream",
          "name": "stdout",
          "text": [
            "<class 'pandas.core.frame.DataFrame'>\n",
            "RangeIndex: 2249698 entries, 0 to 2249697\n",
            "Data columns (total 6 columns):\n",
            " #   Column           Dtype  \n",
            "---  ------           -----  \n",
            " 0   PRODUCT_ID       int64  \n",
            " 1   TITLE            object \n",
            " 2   BULLET_POINTS    object \n",
            " 3   DESCRIPTION      object \n",
            " 4   PRODUCT_TYPE_ID  int64  \n",
            " 5   PRODUCT_LENGTH   float64\n",
            "dtypes: float64(1), int64(2), object(3)\n",
            "memory usage: 103.0+ MB\n"
          ]
        }
      ]
    },
    {
      "cell_type": "code",
      "source": [
        "test.info()"
      ],
      "metadata": {
        "colab": {
          "base_uri": "https://localhost:8080/"
        },
        "id": "GZDpc9nDju5_",
        "outputId": "4ab21ccc-be69-4398-fcd1-bb691effc1aa"
      },
      "execution_count": 6,
      "outputs": [
        {
          "output_type": "stream",
          "name": "stdout",
          "text": [
            "<class 'pandas.core.frame.DataFrame'>\n",
            "RangeIndex: 734736 entries, 0 to 734735\n",
            "Data columns (total 5 columns):\n",
            " #   Column           Non-Null Count   Dtype \n",
            "---  ------           --------------   ----- \n",
            " 0   PRODUCT_ID       734736 non-null  int64 \n",
            " 1   TITLE            734731 non-null  object\n",
            " 2   BULLET_POINTS    458814 non-null  object\n",
            " 3   DESCRIPTION      354735 non-null  object\n",
            " 4   PRODUCT_TYPE_ID  734736 non-null  int64 \n",
            "dtypes: int64(2), object(3)\n",
            "memory usage: 28.0+ MB\n"
          ]
        }
      ]
    },
    {
      "cell_type": "code",
      "source": [
        "train.head()"
      ],
      "metadata": {
        "colab": {
          "base_uri": "https://localhost:8080/",
          "height": 207
        },
        "id": "KZTiFUba_D6G",
        "outputId": "c9771a26-3d41-404e-fb3d-a48b9555c2b0"
      },
      "execution_count": 7,
      "outputs": [
        {
          "output_type": "execute_result",
          "data": {
            "text/plain": [
              "   PRODUCT_ID                                              TITLE  \\\n",
              "0     1925202  ArtzFolio Tulip Flowers Blackout Curtain for D...   \n",
              "1     2673191  Marks & Spencer Girls' Pyjama Sets T86_2561C_N...   \n",
              "2     2765088  PRIKNIK Horn Red Electric Air Horn Compressor ...   \n",
              "3     1594019  ALISHAH Women's Cotton Ankle Length Leggings C...   \n",
              "4      283658  The United Empire Loyalists: A Chronicle of th...   \n",
              "\n",
              "                                       BULLET_POINTS  \\\n",
              "0  [LUXURIOUS & APPEALING: Beautiful custom-made ...   \n",
              "1  [Harry Potter Hedwig Pyjamas (6-16 Yrs),100% c...   \n",
              "2  [Loud Dual Tone Trumpet Horn, Compatible With ...   \n",
              "3  [Made By 95%cotton and 5% Lycra which gives yo...   \n",
              "4                                                NaN   \n",
              "\n",
              "                                         DESCRIPTION  PRODUCT_TYPE_ID  \\\n",
              "0                                                NaN             1650   \n",
              "1                                                NaN             2755   \n",
              "2  Specifications: Color: Red, Material: Aluminiu...             7537   \n",
              "3  AISHAH Women's Lycra Cotton Ankel Leggings. Br...             2996   \n",
              "4                                                NaN             6112   \n",
              "\n",
              "   PRODUCT_LENGTH  \n",
              "0     2125.980000  \n",
              "1      393.700000  \n",
              "2      748.031495  \n",
              "3      787.401574  \n",
              "4      598.424000  "
            ],
            "text/html": [
              "\n",
              "  <div id=\"df-2f7e8e4f-10e3-4b75-83b4-17faa8d59877\">\n",
              "    <div class=\"colab-df-container\">\n",
              "      <div>\n",
              "<style scoped>\n",
              "    .dataframe tbody tr th:only-of-type {\n",
              "        vertical-align: middle;\n",
              "    }\n",
              "\n",
              "    .dataframe tbody tr th {\n",
              "        vertical-align: top;\n",
              "    }\n",
              "\n",
              "    .dataframe thead th {\n",
              "        text-align: right;\n",
              "    }\n",
              "</style>\n",
              "<table border=\"1\" class=\"dataframe\">\n",
              "  <thead>\n",
              "    <tr style=\"text-align: right;\">\n",
              "      <th></th>\n",
              "      <th>PRODUCT_ID</th>\n",
              "      <th>TITLE</th>\n",
              "      <th>BULLET_POINTS</th>\n",
              "      <th>DESCRIPTION</th>\n",
              "      <th>PRODUCT_TYPE_ID</th>\n",
              "      <th>PRODUCT_LENGTH</th>\n",
              "    </tr>\n",
              "  </thead>\n",
              "  <tbody>\n",
              "    <tr>\n",
              "      <th>0</th>\n",
              "      <td>1925202</td>\n",
              "      <td>ArtzFolio Tulip Flowers Blackout Curtain for D...</td>\n",
              "      <td>[LUXURIOUS &amp; APPEALING: Beautiful custom-made ...</td>\n",
              "      <td>NaN</td>\n",
              "      <td>1650</td>\n",
              "      <td>2125.980000</td>\n",
              "    </tr>\n",
              "    <tr>\n",
              "      <th>1</th>\n",
              "      <td>2673191</td>\n",
              "      <td>Marks &amp; Spencer Girls' Pyjama Sets T86_2561C_N...</td>\n",
              "      <td>[Harry Potter Hedwig Pyjamas (6-16 Yrs),100% c...</td>\n",
              "      <td>NaN</td>\n",
              "      <td>2755</td>\n",
              "      <td>393.700000</td>\n",
              "    </tr>\n",
              "    <tr>\n",
              "      <th>2</th>\n",
              "      <td>2765088</td>\n",
              "      <td>PRIKNIK Horn Red Electric Air Horn Compressor ...</td>\n",
              "      <td>[Loud Dual Tone Trumpet Horn, Compatible With ...</td>\n",
              "      <td>Specifications: Color: Red, Material: Aluminiu...</td>\n",
              "      <td>7537</td>\n",
              "      <td>748.031495</td>\n",
              "    </tr>\n",
              "    <tr>\n",
              "      <th>3</th>\n",
              "      <td>1594019</td>\n",
              "      <td>ALISHAH Women's Cotton Ankle Length Leggings C...</td>\n",
              "      <td>[Made By 95%cotton and 5% Lycra which gives yo...</td>\n",
              "      <td>AISHAH Women's Lycra Cotton Ankel Leggings. Br...</td>\n",
              "      <td>2996</td>\n",
              "      <td>787.401574</td>\n",
              "    </tr>\n",
              "    <tr>\n",
              "      <th>4</th>\n",
              "      <td>283658</td>\n",
              "      <td>The United Empire Loyalists: A Chronicle of th...</td>\n",
              "      <td>NaN</td>\n",
              "      <td>NaN</td>\n",
              "      <td>6112</td>\n",
              "      <td>598.424000</td>\n",
              "    </tr>\n",
              "  </tbody>\n",
              "</table>\n",
              "</div>\n",
              "      <button class=\"colab-df-convert\" onclick=\"convertToInteractive('df-2f7e8e4f-10e3-4b75-83b4-17faa8d59877')\"\n",
              "              title=\"Convert this dataframe to an interactive table.\"\n",
              "              style=\"display:none;\">\n",
              "        \n",
              "  <svg xmlns=\"http://www.w3.org/2000/svg\" height=\"24px\"viewBox=\"0 0 24 24\"\n",
              "       width=\"24px\">\n",
              "    <path d=\"M0 0h24v24H0V0z\" fill=\"none\"/>\n",
              "    <path d=\"M18.56 5.44l.94 2.06.94-2.06 2.06-.94-2.06-.94-.94-2.06-.94 2.06-2.06.94zm-11 1L8.5 8.5l.94-2.06 2.06-.94-2.06-.94L8.5 2.5l-.94 2.06-2.06.94zm10 10l.94 2.06.94-2.06 2.06-.94-2.06-.94-.94-2.06-.94 2.06-2.06.94z\"/><path d=\"M17.41 7.96l-1.37-1.37c-.4-.4-.92-.59-1.43-.59-.52 0-1.04.2-1.43.59L10.3 9.45l-7.72 7.72c-.78.78-.78 2.05 0 2.83L4 21.41c.39.39.9.59 1.41.59.51 0 1.02-.2 1.41-.59l7.78-7.78 2.81-2.81c.8-.78.8-2.07 0-2.86zM5.41 20L4 18.59l7.72-7.72 1.47 1.35L5.41 20z\"/>\n",
              "  </svg>\n",
              "      </button>\n",
              "      \n",
              "  <style>\n",
              "    .colab-df-container {\n",
              "      display:flex;\n",
              "      flex-wrap:wrap;\n",
              "      gap: 12px;\n",
              "    }\n",
              "\n",
              "    .colab-df-convert {\n",
              "      background-color: #E8F0FE;\n",
              "      border: none;\n",
              "      border-radius: 50%;\n",
              "      cursor: pointer;\n",
              "      display: none;\n",
              "      fill: #1967D2;\n",
              "      height: 32px;\n",
              "      padding: 0 0 0 0;\n",
              "      width: 32px;\n",
              "    }\n",
              "\n",
              "    .colab-df-convert:hover {\n",
              "      background-color: #E2EBFA;\n",
              "      box-shadow: 0px 1px 2px rgba(60, 64, 67, 0.3), 0px 1px 3px 1px rgba(60, 64, 67, 0.15);\n",
              "      fill: #174EA6;\n",
              "    }\n",
              "\n",
              "    [theme=dark] .colab-df-convert {\n",
              "      background-color: #3B4455;\n",
              "      fill: #D2E3FC;\n",
              "    }\n",
              "\n",
              "    [theme=dark] .colab-df-convert:hover {\n",
              "      background-color: #434B5C;\n",
              "      box-shadow: 0px 1px 3px 1px rgba(0, 0, 0, 0.15);\n",
              "      filter: drop-shadow(0px 1px 2px rgba(0, 0, 0, 0.3));\n",
              "      fill: #FFFFFF;\n",
              "    }\n",
              "  </style>\n",
              "\n",
              "      <script>\n",
              "        const buttonEl =\n",
              "          document.querySelector('#df-2f7e8e4f-10e3-4b75-83b4-17faa8d59877 button.colab-df-convert');\n",
              "        buttonEl.style.display =\n",
              "          google.colab.kernel.accessAllowed ? 'block' : 'none';\n",
              "\n",
              "        async function convertToInteractive(key) {\n",
              "          const element = document.querySelector('#df-2f7e8e4f-10e3-4b75-83b4-17faa8d59877');\n",
              "          const dataTable =\n",
              "            await google.colab.kernel.invokeFunction('convertToInteractive',\n",
              "                                                     [key], {});\n",
              "          if (!dataTable) return;\n",
              "\n",
              "          const docLinkHtml = 'Like what you see? Visit the ' +\n",
              "            '<a target=\"_blank\" href=https://colab.research.google.com/notebooks/data_table.ipynb>data table notebook</a>'\n",
              "            + ' to learn more about interactive tables.';\n",
              "          element.innerHTML = '';\n",
              "          dataTable['output_type'] = 'display_data';\n",
              "          await google.colab.output.renderOutput(dataTable, element);\n",
              "          const docLink = document.createElement('div');\n",
              "          docLink.innerHTML = docLinkHtml;\n",
              "          element.appendChild(docLink);\n",
              "        }\n",
              "      </script>\n",
              "    </div>\n",
              "  </div>\n",
              "  "
            ]
          },
          "metadata": {},
          "execution_count": 7
        }
      ]
    },
    {
      "cell_type": "markdown",
      "source": [
        "## NULL Checks"
      ],
      "metadata": {
        "id": "dvLyKCvb64WX"
      }
    },
    {
      "cell_type": "code",
      "source": [
        "train.isna().sum()"
      ],
      "metadata": {
        "colab": {
          "base_uri": "https://localhost:8080/"
        },
        "id": "gYTWMqj0_T8l",
        "outputId": "63e48a22-9d4c-42ae-d2db-a6a3017458d1"
      },
      "execution_count": 8,
      "outputs": [
        {
          "output_type": "execute_result",
          "data": {
            "text/plain": [
              "PRODUCT_ID               0\n",
              "TITLE                   12\n",
              "BULLET_POINTS       837364\n",
              "DESCRIPTION        1157381\n",
              "PRODUCT_TYPE_ID          0\n",
              "PRODUCT_LENGTH           0\n",
              "dtype: int64"
            ]
          },
          "metadata": {},
          "execution_count": 8
        }
      ]
    },
    {
      "cell_type": "code",
      "source": [
        "test.isna().sum()"
      ],
      "metadata": {
        "colab": {
          "base_uri": "https://localhost:8080/"
        },
        "id": "5LWs89_lnZxC",
        "outputId": "22313f1f-8d85-4e4b-e2d3-0187aba9e912"
      },
      "execution_count": 9,
      "outputs": [
        {
          "output_type": "execute_result",
          "data": {
            "text/plain": [
              "PRODUCT_ID              0\n",
              "TITLE                   5\n",
              "BULLET_POINTS      275922\n",
              "DESCRIPTION        380001\n",
              "PRODUCT_TYPE_ID         0\n",
              "dtype: int64"
            ]
          },
          "metadata": {},
          "execution_count": 9
        }
      ]
    },
    {
      "cell_type": "code",
      "source": [
        "ltrain = len(train)\n",
        "train.isna().sum()/ltrain"
      ],
      "metadata": {
        "colab": {
          "base_uri": "https://localhost:8080/"
        },
        "id": "YYFbvLm1_aAz",
        "outputId": "39d756f3-700a-4ce9-b4cf-0934d3cb091b"
      },
      "execution_count": 10,
      "outputs": [
        {
          "output_type": "execute_result",
          "data": {
            "text/plain": [
              "PRODUCT_ID         0.000000\n",
              "TITLE              0.000005\n",
              "BULLET_POINTS      0.372212\n",
              "DESCRIPTION        0.514461\n",
              "PRODUCT_TYPE_ID    0.000000\n",
              "PRODUCT_LENGTH     0.000000\n",
              "dtype: float64"
            ]
          },
          "metadata": {},
          "execution_count": 10
        }
      ]
    },
    {
      "cell_type": "code",
      "source": [
        "ltest = len(test)\n",
        "test.isna().sum()/ltest"
      ],
      "metadata": {
        "colab": {
          "base_uri": "https://localhost:8080/"
        },
        "id": "PwEHtA64np21",
        "outputId": "6d5ef94e-ffa7-440b-cf7f-8ef28d36e98a"
      },
      "execution_count": 11,
      "outputs": [
        {
          "output_type": "execute_result",
          "data": {
            "text/plain": [
              "PRODUCT_ID         0.000000\n",
              "TITLE              0.000007\n",
              "BULLET_POINTS      0.375539\n",
              "DESCRIPTION        0.517194\n",
              "PRODUCT_TYPE_ID    0.000000\n",
              "dtype: float64"
            ]
          },
          "metadata": {},
          "execution_count": 11
        }
      ]
    },
    {
      "cell_type": "code",
      "source": [
        "rtrain = len(train[train[\"DESCRIPTION\"].isna() & train[\"BULLET_POINTS\"].isna()])\n",
        "print(rtrain, rtrain/ltrain)\n",
        "\n",
        "rtest = len(test[test[\"DESCRIPTION\"].isna() & test[\"BULLET_POINTS\"].isna()])\n",
        "print(rtest, rtest/ltest)"
      ],
      "metadata": {
        "colab": {
          "base_uri": "https://localhost:8080/"
        },
        "id": "y8Rxx2q2_koU",
        "outputId": "29335695-8d1a-4e1b-f063-19017e551530"
      },
      "execution_count": 12,
      "outputs": [
        {
          "output_type": "stream",
          "name": "stdout",
          "text": [
            "783507 0.3482720791857396\n",
            "258190 0.3514051305502929\n"
          ]
        }
      ]
    },
    {
      "cell_type": "code",
      "source": [
        "rtrain2 = len(train[train[\"DESCRIPTION\"].isna() & train[\"BULLET_POINTS\"].isna() & train[\"TITLE\"].isna()])\n",
        "print(rtrain2, rtrain2/ltrain)\n",
        "\n",
        "rtest2 = len(test[test[\"DESCRIPTION\"].isna() & test[\"BULLET_POINTS\"].isna() & test[\"TITLE\"].isna()])\n",
        "print(rtest2, rtest2/ltest)"
      ],
      "metadata": {
        "id": "fqeqtgwRAOHa",
        "colab": {
          "base_uri": "https://localhost:8080/"
        },
        "outputId": "ca6ab80f-0701-4327-878b-be4d74289302"
      },
      "execution_count": 13,
      "outputs": [
        {
          "output_type": "stream",
          "name": "stdout",
          "text": [
            "10 4.445041067734425e-06\n",
            "3 4.083099235643823e-06\n"
          ]
        }
      ]
    },
    {
      "cell_type": "markdown",
      "source": [
        "## Distribution"
      ],
      "metadata": {
        "id": "RgNtG1Po68b6"
      }
    },
    {
      "cell_type": "code",
      "source": [
        "train.describe()[\"PRODUCT_LENGTH\"]"
      ],
      "metadata": {
        "colab": {
          "base_uri": "https://localhost:8080/"
        },
        "id": "-1dsplj9z-K_",
        "outputId": "42912734-6f15-4bd7-f31e-b55171497baf"
      },
      "execution_count": 14,
      "outputs": [
        {
          "output_type": "execute_result",
          "data": {
            "text/plain": [
              "count    2.249698e+06\n",
              "mean     4.071839e+03\n",
              "std      1.351685e+06\n",
              "min      1.000000e+00\n",
              "25%      5.118110e+02\n",
              "50%      6.630000e+02\n",
              "75%      1.062992e+03\n",
              "max      1.885801e+09\n",
              "Name: PRODUCT_LENGTH, dtype: float64"
            ]
          },
          "metadata": {},
          "execution_count": 14
        }
      ]
    },
    {
      "cell_type": "code",
      "source": [
        "ax = sns.histplot(np.log10(train[\"PRODUCT_LENGTH\"]), bins = 40, stat=\"count\")\n",
        "ax.set(xlabel = \"log10(PRODUCT_LENGTH)\", ylabel=\"count\")"
      ],
      "metadata": {
        "colab": {
          "base_uri": "https://localhost:8080/",
          "height": 467
        },
        "id": "3DmTbjJs1LDs",
        "outputId": "38dc89f3-f043-4606-dcae-e9151366c17a"
      },
      "execution_count": 15,
      "outputs": [
        {
          "output_type": "execute_result",
          "data": {
            "text/plain": [
              "[Text(0.5, 0, 'log10(PRODUCT_LENGTH)'), Text(0, 0.5, 'count')]"
            ]
          },
          "metadata": {},
          "execution_count": 15
        },
        {
          "output_type": "display_data",
          "data": {
            "text/plain": [
              "<Figure size 640x480 with 1 Axes>"
            ],
            "image/png": "[encoded data removed]"
          },
          "metadata": {}
        }
      ]
    },
    {
      "cell_type": "markdown",
      "source": [
        "## Product Type"
      ],
      "metadata": {
        "id": "ibiklORx7OcE"
      }
    },
    {
      "cell_type": "code",
      "source": [
        "trainpid = set(train[\"PRODUCT_TYPE_ID\"])\n",
        "testpid = set(train[\"PRODUCT_TYPE_ID\"])\n",
        "\n",
        "print(len(trainpid), len(testpid), len(trainpid.intersection(testpid)))"
      ],
      "metadata": {
        "colab": {
          "base_uri": "https://localhost:8080/"
        },
        "id": "KjeNRLhF2RD8",
        "outputId": "11c2275b-6d58-4b43-94fa-16e880fbf7d1"
      },
      "execution_count": 16,
      "outputs": [
        {
          "output_type": "stream",
          "name": "stdout",
          "text": [
            "12907 12907 12907\n"
          ]
        }
      ]
    },
    {
      "cell_type": "code",
      "source": [
        "pid_summary = []\n",
        "for pid in trainpid : \n",
        "  s = train[train[\"PRODUCT_TYPE_ID\"] == pid].describe()[\"PRODUCT_LENGTH\"]\n",
        "  r = s.to_dict()\n",
        "  r[\"PRODUCT_TYPE_ID\"] = pid\n",
        "  pid_summary.append(r)\n",
        "\n",
        "pid_summary = pd.DataFrame(pid_summary)\n",
        "pid_summary.info()"
      ],
      "metadata": {
        "colab": {
          "base_uri": "https://localhost:8080/"
        },
        "id": "ayb8ZyLi74q_",
        "outputId": "a79eeed0-4070-49ea-d968-cf131230c1fc"
      },
      "execution_count": 17,
      "outputs": [
        {
          "output_type": "stream",
          "name": "stdout",
          "text": [
            "<class 'pandas.core.frame.DataFrame'>\n",
            "RangeIndex: 12907 entries, 0 to 12906\n",
            "Data columns (total 9 columns):\n",
            " #   Column           Non-Null Count  Dtype  \n",
            "---  ------           --------------  -----  \n",
            " 0   count            12907 non-null  float64\n",
            " 1   mean             12907 non-null  float64\n",
            " 2   std              11015 non-null  float64\n",
            " 3   min              12907 non-null  float64\n",
            " 4   25%              12907 non-null  float64\n",
            " 5   50%              12907 non-null  float64\n",
            " 6   75%              12907 non-null  float64\n",
            " 7   max              12907 non-null  float64\n",
            " 8   PRODUCT_TYPE_ID  12907 non-null  int64  \n",
            "dtypes: float64(8), int64(1)\n",
            "memory usage: 907.6 KB\n"
          ]
        }
      ]
    },
    {
      "cell_type": "code",
      "source": [
        "pid_summary[pid_summary[\"std\"].isna()][\"count\"].unique()"
      ],
      "metadata": {
        "colab": {
          "base_uri": "https://localhost:8080/"
        },
        "id": "P3AkhUzq8cWK",
        "outputId": "682aab71-2a55-4037-aab6-9744876cedd3"
      },
      "execution_count": 18,
      "outputs": [
        {
          "output_type": "execute_result",
          "data": {
            "text/plain": [
              "array([1.])"
            ]
          },
          "metadata": {},
          "execution_count": 18
        }
      ]
    },
    {
      "cell_type": "code",
      "source": [
        "ax = sns.histplot(pid_summary[pid_summary[\"std\"].isna() == False][\"std\"], bins = 30, stat=\"count\")\n",
        "ax.set(xlabel = \"std\", ylabel=\"count\")"
      ],
      "metadata": {
        "colab": {
          "base_uri": "https://localhost:8080/",
          "height": 466
        },
        "id": "YNgr_LWTE1jP",
        "outputId": "d65d4354-0af9-41f0-8284-cbcfd266d3b7"
      },
      "execution_count": 19,
      "outputs": [
        {
          "output_type": "execute_result",
          "data": {
            "text/plain": [
              "[Text(0.5, 0, 'std'), Text(0, 0.5, 'count')]"
            ]
          },
          "metadata": {},
          "execution_count": 19
        },
        {
          "output_type": "display_data",
          "data": {
            "text/plain": [
              "<Figure size 640x480 with 1 Axes>"
            ],
            "image/png": "[encoded data removed]"
          },
          "metadata": {}
        }
      ]
    },
    {
      "cell_type": "code",
      "source": [
        "ax = sns.histplot(np.log10(pid_summary[~(pid_summary[\"std\"].isna()) & pid_summary[\"std\"]!=0][\"std\"]), bins = 30, stat=\"count\")\n",
        "ax.set(xlabel = \"log10(std)\", ylabel=\"count\")"
      ],
      "metadata": {
        "colab": {
          "base_uri": "https://localhost:8080/",
          "height": 466
        },
        "id": "9E2ba-1MFULx",
        "outputId": "f5303a2f-1384-4aa4-c8c4-721d6b6e7daf"
      },
      "execution_count": 20,
      "outputs": [
        {
          "output_type": "execute_result",
          "data": {
            "text/plain": [
              "[Text(0.5, 0, 'log10(std)'), Text(0, 0.5, 'count')]"
            ]
          },
          "metadata": {},
          "execution_count": 20
        },
        {
          "output_type": "display_data",
          "data": {
            "text/plain": [
              "<Figure size 640x480 with 1 Axes>"
            ],
            "image/png": "[encoded data removed]"
          },
          "metadata": {}
        }
      ]
    },
    {
      "cell_type": "markdown",
      "source": [
        "### Drilldown on Product Type"
      ],
      "metadata": {
        "id": "f9bEt_E8JIz0"
      }
    },
    {
      "cell_type": "code",
      "source": [
        "pid_summary[pid_summary[\"std\"] > 10e5].head(10)"
      ],
      "metadata": {
        "colab": {
          "base_uri": "https://localhost:8080/",
          "height": 363
        },
        "id": "1-I3Cz1mJowi",
        "outputId": "a44b9e2b-df9d-4334-b355-80d87c3c2410"
      },
      "execution_count": 21,
      "outputs": [
        {
          "output_type": "execute_result",
          "data": {
            "text/plain": [
              "       count           mean           std         min         25%  \\\n",
              "227   2752.0   29434.505829  1.500960e+06    1.000000  260.000000   \n",
              "601    712.0   56357.915859  1.475417e+06    3.937000  647.500000   \n",
              "1277   145.0  598281.559789  7.192841e+06   38.000000  590.551180   \n",
              "1281   224.0  283953.681172  4.233345e+06   40.000000  644.704724   \n",
              "1374   397.0  567628.342268  1.128876e+07   39.370079  866.141731   \n",
              "3008   169.0  214683.677345  1.378404e+06  100.000000  400.000000   \n",
              "3009   191.0  430419.843303  1.937892e+06    3.937000  590.551180   \n",
              "3010   660.0  629968.667156  2.168572e+06   39.000000  500.000000   \n",
              "3012   506.0  458321.659018  1.890238e+06    3.937000  500.000000   \n",
              "3014  2104.0  170673.235073  1.189060e+06    3.937000  500.000000   \n",
              "\n",
              "              50%          75%          max  PRODUCT_TYPE_ID  \n",
              "227    500.000000   841.379921   78740200.0              228  \n",
              "601   1181.102361  1348.500000   39370100.0              604  \n",
              "1277   944.881889  1338.580000   86614220.0             1295  \n",
              "1281  1145.866141  1400.000000   63360000.0             1299  \n",
              "1374  1102.360000  1299.212597  224928000.0             1393  \n",
              "3008   590.551180  1062.992125    9515100.0             3067  \n",
              "3009   590.551180   793.700787    9545200.0             3068  \n",
              "3010   750.000000   950.000000    9961600.0             3069  \n",
              "3012   800.000000  1300.000000   10084200.0             3071  \n",
              "3014   800.000000  1299.212597    9836700.0             3073  "
            ],
            "text/html": [
              "\n",
              "  <div id=\"df-4696c156-2012-402c-859c-b317e3cee62c\">\n",
              "    <div class=\"colab-df-container\">\n",
              "      <div>\n",
              "<style scoped>\n",
              "    .dataframe tbody tr th:only-of-type {\n",
              "        vertical-align: middle;\n",
              "    }\n",
              "\n",
              "    .dataframe tbody tr th {\n",
              "        vertical-align: top;\n",
              "    }\n",
              "\n",
              "    .dataframe thead th {\n",
              "        text-align: right;\n",
              "    }\n",
              "</style>\n",
              "<table border=\"1\" class=\"dataframe\">\n",
              "  <thead>\n",
              "    <tr style=\"text-align: right;\">\n",
              "      <th></th>\n",
              "      <th>count</th>\n",
              "      <th>mean</th>\n",
              "      <th>std</th>\n",
              "      <th>min</th>\n",
              "      <th>25%</th>\n",
              "      <th>50%</th>\n",
              "      <th>75%</th>\n",
              "      <th>max</th>\n",
              "      <th>PRODUCT_TYPE_ID</th>\n",
              "    </tr>\n",
              "  </thead>\n",
              "  <tbody>\n",
              "    <tr>\n",
              "      <th>227</th>\n",
              "      <td>2752.0</td>\n",
              "      <td>29434.505829</td>\n",
              "      <td>1.500960e+06</td>\n",
              "      <td>1.000000</td>\n",
              "      <td>260.000000</td>\n",
              "      <td>500.000000</td>\n",
              "      <td>841.379921</td>\n",
              "      <td>78740200.0</td>\n",
              "      <td>228</td>\n",
              "    </tr>\n",
              "    <tr>\n",
              "      <th>601</th>\n",
              "      <td>712.0</td>\n",
              "      <td>56357.915859</td>\n",
              "      <td>1.475417e+06</td>\n",
              "      <td>3.937000</td>\n",
              "      <td>647.500000</td>\n",
              "      <td>1181.102361</td>\n",
              "      <td>1348.500000</td>\n",
              "      <td>39370100.0</td>\n",
              "      <td>604</td>\n",
              "    </tr>\n",
              "    <tr>\n",
              "      <th>1277</th>\n",
              "      <td>145.0</td>\n",
              "      <td>598281.559789</td>\n",
              "      <td>7.192841e+06</td>\n",
              "      <td>38.000000</td>\n",
              "      <td>590.551180</td>\n",
              "      <td>944.881889</td>\n",
              "      <td>1338.580000</td>\n",
              "      <td>86614220.0</td>\n",
              "      <td>1295</td>\n",
              "    </tr>\n",
              "    <tr>\n",
              "      <th>1281</th>\n",
              "      <td>224.0</td>\n",
              "      <td>283953.681172</td>\n",
              "      <td>4.233345e+06</td>\n",
              "      <td>40.000000</td>\n",
              "      <td>644.704724</td>\n",
              "      <td>1145.866141</td>\n",
              "      <td>1400.000000</td>\n",
              "      <td>63360000.0</td>\n",
              "      <td>1299</td>\n",
              "    </tr>\n",
              "    <tr>\n",
              "      <th>1374</th>\n",
              "      <td>397.0</td>\n",
              "      <td>567628.342268</td>\n",
              "      <td>1.128876e+07</td>\n",
              "      <td>39.370079</td>\n",
              "      <td>866.141731</td>\n",
              "      <td>1102.360000</td>\n",
              "      <td>1299.212597</td>\n",
              "      <td>224928000.0</td>\n",
              "      <td>1393</td>\n",
              "    </tr>\n",
              "    <tr>\n",
              "      <th>3008</th>\n",
              "      <td>169.0</td>\n",
              "      <td>214683.677345</td>\n",
              "      <td>1.378404e+06</td>\n",
              "      <td>100.000000</td>\n",
              "      <td>400.000000</td>\n",
              "      <td>590.551180</td>\n",
              "      <td>1062.992125</td>\n",
              "      <td>9515100.0</td>\n",
              "      <td>3067</td>\n",
              "    </tr>\n",
              "    <tr>\n",
              "      <th>3009</th>\n",
              "      <td>191.0</td>\n",
              "      <td>430419.843303</td>\n",
              "      <td>1.937892e+06</td>\n",
              "      <td>3.937000</td>\n",
              "      <td>590.551180</td>\n",
              "      <td>590.551180</td>\n",
              "      <td>793.700787</td>\n",
              "      <td>9545200.0</td>\n",
              "      <td>3068</td>\n",
              "    </tr>\n",
              "    <tr>\n",
              "      <th>3010</th>\n",
              "      <td>660.0</td>\n",
              "      <td>629968.667156</td>\n",
              "      <td>2.168572e+06</td>\n",
              "      <td>39.000000</td>\n",
              "      <td>500.000000</td>\n",
              "      <td>750.000000</td>\n",
              "      <td>950.000000</td>\n",
              "      <td>9961600.0</td>\n",
              "      <td>3069</td>\n",
              "    </tr>\n",
              "    <tr>\n",
              "      <th>3012</th>\n",
              "      <td>506.0</td>\n",
              "      <td>458321.659018</td>\n",
              "      <td>1.890238e+06</td>\n",
              "      <td>3.937000</td>\n",
              "      <td>500.000000</td>\n",
              "      <td>800.000000</td>\n",
              "      <td>1300.000000</td>\n",
              "      <td>10084200.0</td>\n",
              "      <td>3071</td>\n",
              "    </tr>\n",
              "    <tr>\n",
              "      <th>3014</th>\n",
              "      <td>2104.0</td>\n",
              "      <td>170673.235073</td>\n",
              "      <td>1.189060e+06</td>\n",
              "      <td>3.937000</td>\n",
              "      <td>500.000000</td>\n",
              "      <td>800.000000</td>\n",
              "      <td>1299.212597</td>\n",
              "      <td>9836700.0</td>\n",
              "      <td>3073</td>\n",
              "    </tr>\n",
              "  </tbody>\n",
              "</table>\n",
              "</div>\n",
              "      <button class=\"colab-df-convert\" onclick=\"convertToInteractive('df-4696c156-2012-402c-859c-b317e3cee62c')\"\n",
              "              title=\"Convert this dataframe to an interactive table.\"\n",
              "              style=\"display:none;\">\n",
              "        \n",
              "  <svg xmlns=\"http://www.w3.org/2000/svg\" height=\"24px\"viewBox=\"0 0 24 24\"\n",
              "       width=\"24px\">\n",
              "    <path d=\"M0 0h24v24H0V0z\" fill=\"none\"/>\n",
              "    <path d=\"M18.56 5.44l.94 2.06.94-2.06 2.06-.94-2.06-.94-.94-2.06-.94 2.06-2.06.94zm-11 1L8.5 8.5l.94-2.06 2.06-.94-2.06-.94L8.5 2.5l-.94 2.06-2.06.94zm10 10l.94 2.06.94-2.06 2.06-.94-2.06-.94-.94-2.06-.94 2.06-2.06.94z\"/><path d=\"M17.41 7.96l-1.37-1.37c-.4-.4-.92-.59-1.43-.59-.52 0-1.04.2-1.43.59L10.3 9.45l-7.72 7.72c-.78.78-.78 2.05 0 2.83L4 21.41c.39.39.9.59 1.41.59.51 0 1.02-.2 1.41-.59l7.78-7.78 2.81-2.81c.8-.78.8-2.07 0-2.86zM5.41 20L4 18.59l7.72-7.72 1.47 1.35L5.41 20z\"/>\n",
              "  </svg>\n",
              "      </button>\n",
              "      \n",
              "  <style>\n",
              "    .colab-df-container {\n",
              "      display:flex;\n",
              "      flex-wrap:wrap;\n",
              "      gap: 12px;\n",
              "    }\n",
              "\n",
              "    .colab-df-convert {\n",
              "      background-color: #E8F0FE;\n",
              "      border: none;\n",
              "      border-radius: 50%;\n",
              "      cursor: pointer;\n",
              "      display: none;\n",
              "      fill: #1967D2;\n",
              "      height: 32px;\n",
              "      padding: 0 0 0 0;\n",
              "      width: 32px;\n",
              "    }\n",
              "\n",
              "    .colab-df-convert:hover {\n",
              "      background-color: #E2EBFA;\n",
              "      box-shadow: 0px 1px 2px rgba(60, 64, 67, 0.3), 0px 1px 3px 1px rgba(60, 64, 67, 0.15);\n",
              "      fill: #174EA6;\n",
              "    }\n",
              "\n",
              "    [theme=dark] .colab-df-convert {\n",
              "      background-color: #3B4455;\n",
              "      fill: #D2E3FC;\n",
              "    }\n",
              "\n",
              "    [theme=dark] .colab-df-convert:hover {\n",
              "      background-color: #434B5C;\n",
              "      box-shadow: 0px 1px 3px 1px rgba(0, 0, 0, 0.15);\n",
              "      filter: drop-shadow(0px 1px 2px rgba(0, 0, 0, 0.3));\n",
              "      fill: #FFFFFF;\n",
              "    }\n",
              "  </style>\n",
              "\n",
              "      <script>\n",
              "        const buttonEl =\n",
              "          document.querySelector('#df-4696c156-2012-402c-859c-b317e3cee62c button.colab-df-convert');\n",
              "        buttonEl.style.display =\n",
              "          google.colab.kernel.accessAllowed ? 'block' : 'none';\n",
              "\n",
              "        async function convertToInteractive(key) {\n",
              "          const element = document.querySelector('#df-4696c156-2012-402c-859c-b317e3cee62c');\n",
              "          const dataTable =\n",
              "            await google.colab.kernel.invokeFunction('convertToInteractive',\n",
              "                                                     [key], {});\n",
              "          if (!dataTable) return;\n",
              "\n",
              "          const docLinkHtml = 'Like what you see? Visit the ' +\n",
              "            '<a target=\"_blank\" href=https://colab.research.google.com/notebooks/data_table.ipynb>data table notebook</a>'\n",
              "            + ' to learn more about interactive tables.';\n",
              "          element.innerHTML = '';\n",
              "          dataTable['output_type'] = 'display_data';\n",
              "          await google.colab.output.renderOutput(dataTable, element);\n",
              "          const docLink = document.createElement('div');\n",
              "          docLink.innerHTML = docLinkHtml;\n",
              "          element.appendChild(docLink);\n",
              "        }\n",
              "      </script>\n",
              "    </div>\n",
              "  </div>\n",
              "  "
            ]
          },
          "metadata": {},
          "execution_count": 21
        }
      ]
    },
    {
      "cell_type": "code",
      "source": [
        "abpid = list(pid_summary[pid_summary[\"std\"] > 10e5][\"PRODUCT_TYPE_ID\"])[0]\n",
        "subset = train[train[\"PRODUCT_TYPE_ID\"] == abpid]\n",
        "subset.describe()[\"PRODUCT_LENGTH\"]"
      ],
      "metadata": {
        "colab": {
          "base_uri": "https://localhost:8080/"
        },
        "id": "gi8w4ctpF4bx",
        "outputId": "60268e48-15de-442c-c6d0-9f16b99183f3"
      },
      "execution_count": 22,
      "outputs": [
        {
          "output_type": "execute_result",
          "data": {
            "text/plain": [
              "count    2.752000e+03\n",
              "mean     2.943451e+04\n",
              "std      1.500960e+06\n",
              "min      1.000000e+00\n",
              "25%      2.600000e+02\n",
              "50%      5.000000e+02\n",
              "75%      8.413799e+02\n",
              "max      7.874020e+07\n",
              "Name: PRODUCT_LENGTH, dtype: float64"
            ]
          },
          "metadata": {},
          "execution_count": 22
        }
      ]
    },
    {
      "cell_type": "code",
      "source": [
        "ax = sns.histplot(subset[\"PRODUCT_LENGTH\"], bins = 30, stat=\"count\")\n",
        "ax.set(xlabel = \"PRODUCT_LENGTH\", ylabel=\"count\")"
      ],
      "metadata": {
        "colab": {
          "base_uri": "https://localhost:8080/",
          "height": 466
        },
        "id": "7WEsMCoXLVfR",
        "outputId": "20fccb08-82c6-494e-d3d4-7d975d7d56b7"
      },
      "execution_count": 23,
      "outputs": [
        {
          "output_type": "execute_result",
          "data": {
            "text/plain": [
              "[Text(0.5, 0, 'PRODUCT_LENGTH'), Text(0, 0.5, 'count')]"
            ]
          },
          "metadata": {},
          "execution_count": 23
        },
        {
          "output_type": "display_data",
          "data": {
            "text/plain": [
              "<Figure size 640x480 with 1 Axes>"
            ],
            "image/png": "[encoded data removed]"
          },
          "metadata": {}
        }
      ]
    },
    {
      "cell_type": "code",
      "source": [
        "ax = sns.histplot(np.log10(subset[\"PRODUCT_LENGTH\"]), bins = 30, stat=\"count\")\n",
        "ax.set(xlabel = \"log10(PRODUCT_LENGTH)\", ylabel=\"count\")"
      ],
      "metadata": {
        "colab": {
          "base_uri": "https://localhost:8080/",
          "height": 467
        },
        "id": "x6IWzeW0JTj3",
        "outputId": "6d7fd46e-5c3a-4876-e3fc-ad60f68112ff"
      },
      "execution_count": 24,
      "outputs": [
        {
          "output_type": "execute_result",
          "data": {
            "text/plain": [
              "[Text(0.5, 0, 'log10(PRODUCT_LENGTH)'), Text(0, 0.5, 'count')]"
            ]
          },
          "metadata": {},
          "execution_count": 24
        },
        {
          "output_type": "display_data",
          "data": {
            "text/plain": [
              "<Figure size 640x480 with 1 Axes>"
            ],
            "image/png": "[encoded data removed]"
          },
          "metadata": {}
        }
      ]
    },
    {
      "cell_type": "code",
      "source": [
        "subset.head(10)"
      ],
      "metadata": {
        "colab": {
          "base_uri": "https://localhost:8080/",
          "height": 363
        },
        "id": "ORUii8mkLP9g",
        "outputId": "04d95c4a-8c94-4c8f-ab64-e20de60c1312"
      },
      "execution_count": 25,
      "outputs": [
        {
          "output_type": "execute_result",
          "data": {
            "text/plain": [
              "      PRODUCT_ID                                              TITLE  \\\n",
              "1050      870979  Surf City Garage101 Clearly Better Glass Clean...   \n",
              "1123     1365446  Babo Care Heel Grips Liners Back Heel Insoles ...   \n",
              "3218     1593437  Wahl Speed Shave Rechargeable Wet/Dry Waterpro...   \n",
              "4598     1048057  Samozdrav Breathing Device + English and Russi...   \n",
              "4688      846026        Garelick Adjustable Hgt Footrest 15 2751601   \n",
              "6517      854131  Thompson Turmeric Curcumin Extract, 300 mg 60-...   \n",
              "6852     1555521  Foster Grant Men's Boston Brown Reading Glasse...   \n",
              "7038     2781196  Icy Hot Medicated Pain Relief Liquid with No M...   \n",
              "7148     1175941  Large Hot/Cold Gel Pack (Reusable) - With Comp...   \n",
              "8164     1750306  Signal Haleine Pure Microspheres Toothpaste, 7...   \n",
              "\n",
              "                                          BULLET_POINTS  \\\n",
              "1050                                                NaN   \n",
              "1123                                                NaN   \n",
              "3218                                                NaN   \n",
              "4598                                                NaN   \n",
              "4688                                                NaN   \n",
              "6517  [Once daily gel capsule,A member of the Nutrac...   \n",
              "6852                                                NaN   \n",
              "7038  [Pain relief roll on,Quick drying, stain-free....   \n",
              "7148                                                NaN   \n",
              "8164                                                NaN   \n",
              "\n",
              "                                            DESCRIPTION  PRODUCT_TYPE_ID  \\\n",
              "1050                                                NaN              228   \n",
              "1123                                                NaN              228   \n",
              "3218  Wahl Speed Shave Rechargeable Wet/Dry Waterpro...              228   \n",
              "4598                                                NaN              228   \n",
              "4688                                                NaN              228   \n",
              "6517  Thompson turmeric curcumin is a standardized e...              228   \n",
              "6852                                                NaN              228   \n",
              "7038  Because you’re remarkably resilient. With the ...              228   \n",
              "7148                                                NaN              228   \n",
              "8164                                                NaN              228   \n",
              "\n",
              "      PRODUCT_LENGTH  \n",
              "1050      393.700787  \n",
              "1123      550.000000  \n",
              "3218      320.000000  \n",
              "4598      984.000000  \n",
              "4688      976.000000  \n",
              "6517      260.000000  \n",
              "6852      700.000000  \n",
              "7038      236.220472  \n",
              "7148     3543.307083  \n",
              "8164      830.707000  "
            ],
            "text/html": [
              "\n",
              "  <div id=\"df-f6af9545-18cb-45a2-8aea-43367a165eef\">\n",
              "    <div class=\"colab-df-container\">\n",
              "      <div>\n",
              "<style scoped>\n",
              "    .dataframe tbody tr th:only-of-type {\n",
              "        vertical-align: middle;\n",
              "    }\n",
              "\n",
              "    .dataframe tbody tr th {\n",
              "        vertical-align: top;\n",
              "    }\n",
              "\n",
              "    .dataframe thead th {\n",
              "        text-align: right;\n",
              "    }\n",
              "</style>\n",
              "<table border=\"1\" class=\"dataframe\">\n",
              "  <thead>\n",
              "    <tr style=\"text-align: right;\">\n",
              "      <th></th>\n",
              "      <th>PRODUCT_ID</th>\n",
              "      <th>TITLE</th>\n",
              "      <th>BULLET_POINTS</th>\n",
              "      <th>DESCRIPTION</th>\n",
              "      <th>PRODUCT_TYPE_ID</th>\n",
              "      <th>PRODUCT_LENGTH</th>\n",
              "    </tr>\n",
              "  </thead>\n",
              "  <tbody>\n",
              "    <tr>\n",
              "      <th>1050</th>\n",
              "      <td>870979</td>\n",
              "      <td>Surf City Garage101 Clearly Better Glass Clean...</td>\n",
              "      <td>NaN</td>\n",
              "      <td>NaN</td>\n",
              "      <td>228</td>\n",
              "      <td>393.700787</td>\n",
              "    </tr>\n",
              "    <tr>\n",
              "      <th>1123</th>\n",
              "      <td>1365446</td>\n",
              "      <td>Babo Care Heel Grips Liners Back Heel Insoles ...</td>\n",
              "      <td>NaN</td>\n",
              "      <td>NaN</td>\n",
              "      <td>228</td>\n",
              "      <td>550.000000</td>\n",
              "    </tr>\n",
              "    <tr>\n",
              "      <th>3218</th>\n",
              "      <td>1593437</td>\n",
              "      <td>Wahl Speed Shave Rechargeable Wet/Dry Waterpro...</td>\n",
              "      <td>NaN</td>\n",
              "      <td>Wahl Speed Shave Rechargeable Wet/Dry Waterpro...</td>\n",
              "      <td>228</td>\n",
              "      <td>320.000000</td>\n",
              "    </tr>\n",
              "    <tr>\n",
              "      <th>4598</th>\n",
              "      <td>1048057</td>\n",
              "      <td>Samozdrav Breathing Device + English and Russi...</td>\n",
              "      <td>NaN</td>\n",
              "      <td>NaN</td>\n",
              "      <td>228</td>\n",
              "      <td>984.000000</td>\n",
              "    </tr>\n",
              "    <tr>\n",
              "      <th>4688</th>\n",
              "      <td>846026</td>\n",
              "      <td>Garelick Adjustable Hgt Footrest 15 2751601</td>\n",
              "      <td>NaN</td>\n",
              "      <td>NaN</td>\n",
              "      <td>228</td>\n",
              "      <td>976.000000</td>\n",
              "    </tr>\n",
              "    <tr>\n",
              "      <th>6517</th>\n",
              "      <td>854131</td>\n",
              "      <td>Thompson Turmeric Curcumin Extract, 300 mg 60-...</td>\n",
              "      <td>[Once daily gel capsule,A member of the Nutrac...</td>\n",
              "      <td>Thompson turmeric curcumin is a standardized e...</td>\n",
              "      <td>228</td>\n",
              "      <td>260.000000</td>\n",
              "    </tr>\n",
              "    <tr>\n",
              "      <th>6852</th>\n",
              "      <td>1555521</td>\n",
              "      <td>Foster Grant Men's Boston Brown Reading Glasse...</td>\n",
              "      <td>NaN</td>\n",
              "      <td>NaN</td>\n",
              "      <td>228</td>\n",
              "      <td>700.000000</td>\n",
              "    </tr>\n",
              "    <tr>\n",
              "      <th>7038</th>\n",
              "      <td>2781196</td>\n",
              "      <td>Icy Hot Medicated Pain Relief Liquid with No M...</td>\n",
              "      <td>[Pain relief roll on,Quick drying, stain-free....</td>\n",
              "      <td>Because you’re remarkably resilient. With the ...</td>\n",
              "      <td>228</td>\n",
              "      <td>236.220472</td>\n",
              "    </tr>\n",
              "    <tr>\n",
              "      <th>7148</th>\n",
              "      <td>1175941</td>\n",
              "      <td>Large Hot/Cold Gel Pack (Reusable) - With Comp...</td>\n",
              "      <td>NaN</td>\n",
              "      <td>NaN</td>\n",
              "      <td>228</td>\n",
              "      <td>3543.307083</td>\n",
              "    </tr>\n",
              "    <tr>\n",
              "      <th>8164</th>\n",
              "      <td>1750306</td>\n",
              "      <td>Signal Haleine Pure Microspheres Toothpaste, 7...</td>\n",
              "      <td>NaN</td>\n",
              "      <td>NaN</td>\n",
              "      <td>228</td>\n",
              "      <td>830.707000</td>\n",
              "    </tr>\n",
              "  </tbody>\n",
              "</table>\n",
              "</div>\n",
              "      <button class=\"colab-df-convert\" onclick=\"convertToInteractive('df-f6af9545-18cb-45a2-8aea-43367a165eef')\"\n",
              "              title=\"Convert this dataframe to an interactive table.\"\n",
              "              style=\"display:none;\">\n",
              "        \n",
              "  <svg xmlns=\"http://www.w3.org/2000/svg\" height=\"24px\"viewBox=\"0 0 24 24\"\n",
              "       width=\"24px\">\n",
              "    <path d=\"M0 0h24v24H0V0z\" fill=\"none\"/>\n",
              "    <path d=\"M18.56 5.44l.94 2.06.94-2.06 2.06-.94-2.06-.94-.94-2.06-.94 2.06-2.06.94zm-11 1L8.5 8.5l.94-2.06 2.06-.94-2.06-.94L8.5 2.5l-.94 2.06-2.06.94zm10 10l.94 2.06.94-2.06 2.06-.94-2.06-.94-.94-2.06-.94 2.06-2.06.94z\"/><path d=\"M17.41 7.96l-1.37-1.37c-.4-.4-.92-.59-1.43-.59-.52 0-1.04.2-1.43.59L10.3 9.45l-7.72 7.72c-.78.78-.78 2.05 0 2.83L4 21.41c.39.39.9.59 1.41.59.51 0 1.02-.2 1.41-.59l7.78-7.78 2.81-2.81c.8-.78.8-2.07 0-2.86zM5.41 20L4 18.59l7.72-7.72 1.47 1.35L5.41 20z\"/>\n",
              "  </svg>\n",
              "      </button>\n",
              "      \n",
              "  <style>\n",
              "    .colab-df-container {\n",
              "      display:flex;\n",
              "      flex-wrap:wrap;\n",
              "      gap: 12px;\n",
              "    }\n",
              "\n",
              "    .colab-df-convert {\n",
              "      background-color: #E8F0FE;\n",
              "      border: none;\n",
              "      border-radius: 50%;\n",
              "      cursor: pointer;\n",
              "      display: none;\n",
              "      fill: #1967D2;\n",
              "      height: 32px;\n",
              "      padding: 0 0 0 0;\n",
              "      width: 32px;\n",
              "    }\n",
              "\n",
              "    .colab-df-convert:hover {\n",
              "      background-color: #E2EBFA;\n",
              "      box-shadow: 0px 1px 2px rgba(60, 64, 67, 0.3), 0px 1px 3px 1px rgba(60, 64, 67, 0.15);\n",
              "      fill: #174EA6;\n",
              "    }\n",
              "\n",
              "    [theme=dark] .colab-df-convert {\n",
              "      background-color: #3B4455;\n",
              "      fill: #D2E3FC;\n",
              "    }\n",
              "\n",
              "    [theme=dark] .colab-df-convert:hover {\n",
              "      background-color: #434B5C;\n",
              "      box-shadow: 0px 1px 3px 1px rgba(0, 0, 0, 0.15);\n",
              "      filter: drop-shadow(0px 1px 2px rgba(0, 0, 0, 0.3));\n",
              "      fill: #FFFFFF;\n",
              "    }\n",
              "  </style>\n",
              "\n",
              "      <script>\n",
              "        const buttonEl =\n",
              "          document.querySelector('#df-f6af9545-18cb-45a2-8aea-43367a165eef button.colab-df-convert');\n",
              "        buttonEl.style.display =\n",
              "          google.colab.kernel.accessAllowed ? 'block' : 'none';\n",
              "\n",
              "        async function convertToInteractive(key) {\n",
              "          const element = document.querySelector('#df-f6af9545-18cb-45a2-8aea-43367a165eef');\n",
              "          const dataTable =\n",
              "            await google.colab.kernel.invokeFunction('convertToInteractive',\n",
              "                                                     [key], {});\n",
              "          if (!dataTable) return;\n",
              "\n",
              "          const docLinkHtml = 'Like what you see? Visit the ' +\n",
              "            '<a target=\"_blank\" href=https://colab.research.google.com/notebooks/data_table.ipynb>data table notebook</a>'\n",
              "            + ' to learn more about interactive tables.';\n",
              "          element.innerHTML = '';\n",
              "          dataTable['output_type'] = 'display_data';\n",
              "          await google.colab.output.renderOutput(dataTable, element);\n",
              "          const docLink = document.createElement('div');\n",
              "          docLink.innerHTML = docLinkHtml;\n",
              "          element.appendChild(docLink);\n",
              "        }\n",
              "      </script>\n",
              "    </div>\n",
              "  </div>\n",
              "  "
            ]
          },
          "metadata": {},
          "execution_count": 25
        }
      ]
    },
    {
      "cell_type": "markdown",
      "source": [
        "### Trimming 5% from both sides"
      ],
      "metadata": {
        "id": "o3AJTRjmMfh9"
      }
    },
    {
      "cell_type": "code",
      "source": [
        "slen = len(subset)\n",
        "lens = sorted(subset[\"PRODUCT_LENGTH\"])\n",
        "\n",
        "low = lens[int(0.05*slen)]\n",
        "high = lens[int(0.95*slen)]"
      ],
      "metadata": {
        "id": "v4AxPNzdL5FS"
      },
      "execution_count": 26,
      "outputs": []
    },
    {
      "cell_type": "code",
      "source": [
        "subset2 = subset[(subset[\"PRODUCT_LENGTH\"]>low) & (subset[\"PRODUCT_LENGTH\"]<high)]\n",
        "subset2.describe()[\"PRODUCT_LENGTH\"]"
      ],
      "metadata": {
        "colab": {
          "base_uri": "https://localhost:8080/"
        },
        "id": "Z3E5e-XWM9Am",
        "outputId": "fad899a9-80d3-4fc3-a0d0-ff071db4086a"
      },
      "execution_count": 27,
      "outputs": [
        {
          "output_type": "execute_result",
          "data": {
            "text/plain": [
              "count    2437.000000\n",
              "mean      599.582354\n",
              "std       389.913726\n",
              "min       102.362000\n",
              "25%       300.000000\n",
              "50%       500.000000\n",
              "75%       800.000000\n",
              "max      1968.503935\n",
              "Name: PRODUCT_LENGTH, dtype: float64"
            ]
          },
          "metadata": {},
          "execution_count": 27
        }
      ]
    },
    {
      "cell_type": "code",
      "source": [
        "ax = sns.histplot(subset2[\"PRODUCT_LENGTH\"], bins = 30, stat=\"count\")\n",
        "ax.set(xlabel = \"PRODUCT_LENGTH (5% trim)\", ylabel=\"count\")"
      ],
      "metadata": {
        "colab": {
          "base_uri": "https://localhost:8080/",
          "height": 467
        },
        "id": "PSzZNuMcNGH6",
        "outputId": "7e411cfa-6ed1-44bf-b896-b49e96f9ed7b"
      },
      "execution_count": 28,
      "outputs": [
        {
          "output_type": "execute_result",
          "data": {
            "text/plain": [
              "[Text(0.5, 0, 'PRODUCT_LENGTH (5% trim)'), Text(0, 0.5, 'count')]"
            ]
          },
          "metadata": {},
          "execution_count": 28
        },
        {
          "output_type": "display_data",
          "data": {
            "text/plain": [
              "<Figure size 640x480 with 1 Axes>"
            ],
            "image/png": "[encoded data removed]"
          },
          "metadata": {}
        }
      ]
    },
    {
      "cell_type": "markdown",
      "source": [
        "### Trimming 2.5% from both sides"
      ],
      "metadata": {
        "id": "sAjW4XnSN25r"
      }
    },
    {
      "cell_type": "code",
      "source": [
        "slen = len(subset)\n",
        "lens = sorted(subset[\"PRODUCT_LENGTH\"])\n",
        "\n",
        "low = lens[int(0.025*slen)]\n",
        "high = lens[int(0.975*slen)]"
      ],
      "metadata": {
        "id": "LMZUn1HFN5gC"
      },
      "execution_count": 29,
      "outputs": []
    },
    {
      "cell_type": "code",
      "source": [
        "subset3 = subset[(subset[\"PRODUCT_LENGTH\"]>low) & (subset[\"PRODUCT_LENGTH\"]<high)]\n",
        "subset3.describe()[\"PRODUCT_LENGTH\"]"
      ],
      "metadata": {
        "colab": {
          "base_uri": "https://localhost:8080/"
        },
        "id": "ZpeGmrk1N9ut",
        "outputId": "3a688039-42a6-4170-fb61-a71d9c9baf74"
      },
      "execution_count": 30,
      "outputs": [
        {
          "output_type": "execute_result",
          "data": {
            "text/plain": [
              "count    2614.000000\n",
              "mean      635.724620\n",
              "std       504.014879\n",
              "min        74.300000\n",
              "25%       275.590551\n",
              "50%       500.000000\n",
              "75%       808.976378\n",
              "max      3050.000000\n",
              "Name: PRODUCT_LENGTH, dtype: float64"
            ]
          },
          "metadata": {},
          "execution_count": 30
        }
      ]
    },
    {
      "cell_type": "code",
      "source": [
        "ax = sns.histplot(subset3[\"PRODUCT_LENGTH\"], bins = 30, stat=\"count\")\n",
        "ax.set(xlabel = \"PRODUCT_LENGTH (2.55% trim)\", ylabel=\"count\")"
      ],
      "metadata": {
        "colab": {
          "base_uri": "https://localhost:8080/",
          "height": 467
        },
        "id": "nCPV2L8WN_6O",
        "outputId": "31f89992-4ac3-4ccf-e81b-e4edc71e5d56"
      },
      "execution_count": 31,
      "outputs": [
        {
          "output_type": "execute_result",
          "data": {
            "text/plain": [
              "[Text(0.5, 0, 'PRODUCT_LENGTH (2.55% trim)'), Text(0, 0.5, 'count')]"
            ]
          },
          "metadata": {},
          "execution_count": 31
        },
        {
          "output_type": "display_data",
          "data": {
            "text/plain": [
              "<Figure size 640x480 with 1 Axes>"
            ],
            "image/png": "[encoded data removed]"
          },
          "metadata": {}
        }
      ]
    },
    {
      "cell_type": "markdown",
      "source": [
        "# Applying stratified 2.5% filter on full dataset"
      ],
      "metadata": {
        "id": "shkBUINlK_bo"
      }
    },
    {
      "cell_type": "code",
      "source": [
        "for pid in tqdm(trainpid) : \n",
        "  subset = train[train[\"PRODUCT_TYPE_ID\"] == pid]\n",
        "  slen = len(subset)\n",
        "  lens = sorted(subset[\"PRODUCT_LENGTH\"])\n",
        "  low = lens[int(0.025*slen)]\n",
        "  high = lens[int(0.975*slen)]\n",
        "  train = train[(train[\"PRODUCT_TYPE_ID\"] != pid) | ((train[\"PRODUCT_TYPE_ID\"] == pid) & (train[\"PRODUCT_LENGTH\"]>=low) & (train[\"PRODUCT_LENGTH\"]<=high))]"
      ],
      "metadata": {
        "colab": {
          "base_uri": "https://localhost:8080/"
        },
        "id": "r_BrqgNlLHRd",
        "outputId": "b9870827-534b-4637-a2cb-8654b5867b50"
      },
      "execution_count": 34,
      "outputs": [
        {
          "output_type": "stream",
          "name": "stderr",
          "text": [
            "100%|██████████| 12907/12907 [55:22<00:00,  3.88it/s]\n"
          ]
        }
      ]
    },
    {
      "cell_type": "markdown",
      "source": [
        "## Distributions after 2.5% filter"
      ],
      "metadata": {
        "id": "-ug4lTCYLD-g"
      }
    },
    {
      "cell_type": "code",
      "source": [
        "ax = sns.histplot(train[\"PRODUCT_LENGTH\"], bins = 30, stat=\"count\")\n",
        "ax.set(xlabel = \"PRODUCT_LENGTH\", ylabel=\"count\")"
      ],
      "metadata": {
        "colab": {
          "base_uri": "https://localhost:8080/",
          "height": 482
        },
        "id": "vZjWVmJylwtP",
        "outputId": "2f6a65e1-edaf-493a-c314-3ccf5aeadab5"
      },
      "execution_count": 35,
      "outputs": [
        {
          "output_type": "execute_result",
          "data": {
            "text/plain": [
              "[Text(0.5, 0, 'PRODUCT_LENGTH'), Text(0, 0.5, 'count')]"
            ]
          },
          "metadata": {},
          "execution_count": 35
        },
        {
          "output_type": "display_data",
          "data": {
            "text/plain": [
              "<Figure size 640x480 with 1 Axes>"
            ],
            "image/png": "[encoded data removed]"
          },
          "metadata": {}
        }
      ]
    },
    {
      "cell_type": "code",
      "source": [
        "ax = sns.histplot(np.log10(train[\"PRODUCT_LENGTH\"]), bins = 40, stat=\"count\")\n",
        "ax.set(xlabel = \"log10(PRODUCT_LENGTH)\", ylabel=\"count\")"
      ],
      "metadata": {
        "colab": {
          "base_uri": "https://localhost:8080/",
          "height": 467
        },
        "id": "Zaw8s5nQnfc2",
        "outputId": "443a4aa4-a008-45ae-fd28-5abbc0fe824f"
      },
      "execution_count": 37,
      "outputs": [
        {
          "output_type": "execute_result",
          "data": {
            "text/plain": [
              "[Text(0.5, 0, 'log10(PRODUCT_LENGTH)'), Text(0, 0.5, 'count')]"
            ]
          },
          "metadata": {},
          "execution_count": 37
        },
        {
          "output_type": "display_data",
          "data": {
            "text/plain": [
              "<Figure size 640x480 with 1 Axes>"
            ],
            "image/png": "[encoded data removed]"
          },
          "metadata": {}
        }
      ]
    },
    {
      "cell_type": "markdown",
      "source": [
        "# Save and Load Snap 2"
      ],
      "metadata": {
        "id": "xLU89rtHmX_z"
      }
    },
    {
      "cell_type": "code",
      "source": [
        "train.to_csv(\"train2.csv\", index = False)"
      ],
      "metadata": {
        "id": "pZ8t6dd7ma08"
      },
      "execution_count": null,
      "outputs": []
    },
    {
      "cell_type": "markdown",
      "source": [
        "# Examples"
      ],
      "metadata": {
        "id": "2tvAdK9xS3Yd"
      }
    },
    {
      "cell_type": "code",
      "source": [
        "train.head()"
      ],
      "metadata": {
        "id": "RCBVuHdqOD6-"
      },
      "execution_count": null,
      "outputs": []
    },
    {
      "cell_type": "code",
      "source": [
        "stuff = train.iloc[2]"
      ],
      "metadata": {
        "id": "HfcLph9fS6bw"
      },
      "execution_count": null,
      "outputs": []
    },
    {
      "cell_type": "code",
      "source": [
        "print(stuff[\"TITLE\"])"
      ],
      "metadata": {
        "id": "HEchCCBiTDWw"
      },
      "execution_count": null,
      "outputs": []
    },
    {
      "cell_type": "code",
      "source": [
        "for i in stuff[\"DESCRIPTION\"].split(\",\") :\n",
        "  print(i.strip())"
      ],
      "metadata": {
        "id": "YUgOFFD1TJAs"
      },
      "execution_count": null,
      "outputs": []
    },
    {
      "cell_type": "code",
      "source": [
        "for i in list(stuff[\"BULLET_POINTS\"].strip()[1:-1].split(\",\")) : \n",
        "  print(i.strip())"
      ],
      "metadata": {
        "id": "TCwDj28fTMEA"
      },
      "execution_count": null,
      "outputs": []
    },
    {
      "cell_type": "markdown",
      "source": [
        "# Sentence Processing"
      ],
      "metadata": {
        "id": "SKzl2UO4D7k6"
      }
    },
    {
      "cell_type": "code",
      "source": [
        "train = train.fillna(\"\")\n",
        "test = test.fillna(\"\")"
      ],
      "metadata": {
        "id": "rJqtq8eLD9aK"
      },
      "execution_count": null,
      "outputs": []
    },
    {
      "cell_type": "code",
      "source": [
        "def combined(x) :\n",
        "  return x[\"TITLE\"] + \"\\n\" + x[\"BULLET_POINTS\"] + \"\\n\" + x[\"DESCRIPTION\"]"
      ],
      "metadata": {
        "id": "L4N4eWP_EJbr"
      },
      "execution_count": null,
      "outputs": []
    },
    {
      "cell_type": "code",
      "source": [
        "combined(train.iloc[0])"
      ],
      "metadata": {
        "id": "GyflysZEEMVt"
      },
      "execution_count": null,
      "outputs": []
    },
    {
      "cell_type": "code",
      "source": [
        "train[\"DATA\"] = train.apply(lambda x : combined(x).strip(), axis=1)\n",
        "test[\"DATA\"] = test.apply(lambda x : combined(x).strip(), axis=1)"
      ],
      "metadata": {
        "id": "3okWs_QfFBzV"
      },
      "execution_count": null,
      "outputs": []
    },
    {
      "cell_type": "code",
      "source": [
        "train.head()"
      ],
      "metadata": {
        "id": "WCYmvbFPFIjw"
      },
      "execution_count": null,
      "outputs": []
    },
    {
      "cell_type": "code",
      "source": [
        "FIELDS = [\"TITLE\", \"BULLET_POINTS\", \"DESCRIPTION\", \"DATA\"]\n",
        "for field in FIELDS : \n",
        "  train[f\"{field}_L\"] = train.apply(lambda x : len(x[field]), axis = 1)\n",
        "  test[f\"{field}_L\"] = test.apply(lambda x : len(x[field]), axis = 1)"
      ],
      "metadata": {
        "id": "kPrUkwUJF_1n"
      },
      "execution_count": null,
      "outputs": []
    },
    {
      "cell_type": "code",
      "source": [
        "train[[f\"{field}_L\" for field in FIELDS]].describe()"
      ],
      "metadata": {
        "id": "EwHTM9nFGmmi"
      },
      "execution_count": null,
      "outputs": []
    },
    {
      "cell_type": "code",
      "source": [
        "test[[f\"{field}_L\" for field in FIELDS]].describe()"
      ],
      "metadata": {
        "id": "FGMGxH0_H7VO"
      },
      "execution_count": null,
      "outputs": []
    },
    {
      "cell_type": "code",
      "source": [
        "sns.histplot(train[train[\"DATA_L\"] > 0][\"DATA_L\"], stat=\"count\", bins=40)"
      ],
      "metadata": {
        "id": "PJqDAtokHjy_"
      },
      "execution_count": null,
      "outputs": []
    },
    {
      "cell_type": "code",
      "source": [],
      "metadata": {
        "id": "UL84AfpyIDfp"
      },
      "execution_count": null,
      "outputs": []
    }
  ]
}