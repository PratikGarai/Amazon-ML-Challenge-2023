{
  "nbformat": 4,
  "nbformat_minor": 0,
  "metadata": {
    "colab": {
      "provenance": [],
      "toc_visible": true
    },
    "kernelspec": {
      "name": "python3",
      "display_name": "Python 3"
    },
    "language_info": {
      "name": "python"
    }
  },
  "cells": [
    {
      "cell_type": "markdown",
      "source": [
        "# Get Dataset"
      ],
      "metadata": {
        "id": "cttkPp-6hd-S"
      }
    },
    {
      "cell_type": "code",
      "execution_count": 1,
      "metadata": {
        "colab": {
          "base_uri": "https://localhost:8080/"
        },
        "id": "MGylHloI96yJ",
        "outputId": "ccedba0d-a4f7-4ccc-b0ee-2d007c2c6982"
      },
      "outputs": [
        {
          "output_type": "stream",
          "name": "stdout",
          "text": [
            "--2023-04-21 06:34:27--  https://s3-ap-southeast-1.amazonaws.com/he-public-data/datasetb2d9982.zip\n",
            "Resolving s3-ap-southeast-1.amazonaws.com (s3-ap-southeast-1.amazonaws.com)... 52.219.40.70\n",
            "Connecting to s3-ap-southeast-1.amazonaws.com (s3-ap-southeast-1.amazonaws.com)|52.219.40.70|:443... connected.\n",
            "HTTP request sent, awaiting response... 200 OK\n",
            "Length: 895569552 (854M) [binary/octet-stream]\n",
            "Saving to: ‘datasetb2d9982.zip’\n",
            "\n",
            "datasetb2d9982.zip  100%[===================>] 854.08M  12.2MB/s    in 71s     \n",
            "\n",
            "2023-04-21 06:35:39 (12.0 MB/s) - ‘datasetb2d9982.zip’ saved [895569552/895569552]\n",
            "\n"
          ]
        }
      ],
      "source": [
        "!wget https://s3-ap-southeast-1.amazonaws.com/he-public-data/datasetb2d9982.zip"
      ]
    },
    {
      "cell_type": "code",
      "source": [
        "!unzip datasetb2d9982.zip"
      ],
      "metadata": {
        "colab": {
          "base_uri": "https://localhost:8080/"
        },
        "id": "eUTBfatW9--L",
        "outputId": "fd424c19-7e48-4031-9f5f-7b7f3a1bba8b"
      },
      "execution_count": 2,
      "outputs": [
        {
          "output_type": "stream",
          "name": "stdout",
          "text": [
            "Archive:  datasetb2d9982.zip\n",
            "   creating: dataset/\n",
            "  inflating: dataset/sample_submission.csv  \n",
            "  inflating: dataset/train.csv       \n",
            "  inflating: dataset/test.csv        \n"
          ]
        }
      ]
    },
    {
      "cell_type": "markdown",
      "source": [
        "# Imports"
      ],
      "metadata": {
        "id": "5JOxPb1ahhRE"
      }
    },
    {
      "cell_type": "code",
      "source": [
        "import pandas as pd\n",
        "import seaborn as sns\n",
        "import matplotlib.pyplot as plt\n",
        "import numpy as np"
      ],
      "metadata": {
        "id": "02OIGv89-fUF"
      },
      "execution_count": 18,
      "outputs": []
    },
    {
      "cell_type": "markdown",
      "source": [
        "# Load Dataset"
      ],
      "metadata": {
        "id": "46r7_3u-hipz"
      }
    },
    {
      "cell_type": "code",
      "source": [
        "train = pd.read_csv(\"dataset/train.csv\")\n",
        "test = pd.read_csv(\"dataset/test.csv\")\n",
        "sample = pd.read_csv(\"dataset/sample_submission.csv\")"
      ],
      "metadata": {
        "id": "zxhhn-rr-xse"
      },
      "execution_count": 2,
      "outputs": []
    },
    {
      "cell_type": "markdown",
      "source": [
        "# Analysis"
      ],
      "metadata": {
        "id": "cY6bJn5F7D9R"
      }
    },
    {
      "cell_type": "markdown",
      "source": [
        "## Basic Info"
      ],
      "metadata": {
        "id": "9-CzDC6zhkZw"
      }
    },
    {
      "cell_type": "code",
      "source": [
        "train.info()"
      ],
      "metadata": {
        "colab": {
          "base_uri": "https://localhost:8080/"
        },
        "id": "gRsqvuj_-0yR",
        "outputId": "4889d0d7-214f-4a23-824b-72fa9cab0f43"
      },
      "execution_count": 3,
      "outputs": [
        {
          "output_type": "stream",
          "name": "stdout",
          "text": [
            "<class 'pandas.core.frame.DataFrame'>\n",
            "RangeIndex: 2249698 entries, 0 to 2249697\n",
            "Data columns (total 6 columns):\n",
            " #   Column           Dtype  \n",
            "---  ------           -----  \n",
            " 0   PRODUCT_ID       int64  \n",
            " 1   TITLE            object \n",
            " 2   BULLET_POINTS    object \n",
            " 3   DESCRIPTION      object \n",
            " 4   PRODUCT_TYPE_ID  int64  \n",
            " 5   PRODUCT_LENGTH   float64\n",
            "dtypes: float64(1), int64(2), object(3)\n",
            "memory usage: 103.0+ MB\n"
          ]
        }
      ]
    },
    {
      "cell_type": "code",
      "source": [
        "test.info()"
      ],
      "metadata": {
        "colab": {
          "base_uri": "https://localhost:8080/"
        },
        "id": "GZDpc9nDju5_",
        "outputId": "1fac5715-8a24-4fe3-c023-e0ca5b6c7153"
      },
      "execution_count": 4,
      "outputs": [
        {
          "output_type": "stream",
          "name": "stdout",
          "text": [
            "<class 'pandas.core.frame.DataFrame'>\n",
            "RangeIndex: 734736 entries, 0 to 734735\n",
            "Data columns (total 5 columns):\n",
            " #   Column           Non-Null Count   Dtype \n",
            "---  ------           --------------   ----- \n",
            " 0   PRODUCT_ID       734736 non-null  int64 \n",
            " 1   TITLE            734731 non-null  object\n",
            " 2   BULLET_POINTS    458814 non-null  object\n",
            " 3   DESCRIPTION      354735 non-null  object\n",
            " 4   PRODUCT_TYPE_ID  734736 non-null  int64 \n",
            "dtypes: int64(2), object(3)\n",
            "memory usage: 28.0+ MB\n"
          ]
        }
      ]
    },
    {
      "cell_type": "code",
      "source": [
        "train.head()"
      ],
      "metadata": {
        "colab": {
          "base_uri": "https://localhost:8080/",
          "height": 337
        },
        "id": "KZTiFUba_D6G",
        "outputId": "ad94e183-9815-49e5-fba0-e685d30ceb06"
      },
      "execution_count": 5,
      "outputs": [
        {
          "output_type": "execute_result",
          "data": {
            "text/plain": [
              "   PRODUCT_ID                                              TITLE  \\\n",
              "0     1925202  ArtzFolio Tulip Flowers Blackout Curtain for D...   \n",
              "1     2673191  Marks & Spencer Girls' Pyjama Sets T86_2561C_N...   \n",
              "2     2765088  PRIKNIK Horn Red Electric Air Horn Compressor ...   \n",
              "3     1594019  ALISHAH Women's Cotton Ankle Length Leggings C...   \n",
              "4      283658  The United Empire Loyalists: A Chronicle of th...   \n",
              "\n",
              "                                       BULLET_POINTS  \\\n",
              "0  [LUXURIOUS & APPEALING: Beautiful custom-made ...   \n",
              "1  [Harry Potter Hedwig Pyjamas (6-16 Yrs),100% c...   \n",
              "2  [Loud Dual Tone Trumpet Horn, Compatible With ...   \n",
              "3  [Made By 95%cotton and 5% Lycra which gives yo...   \n",
              "4                                                NaN   \n",
              "\n",
              "                                         DESCRIPTION  PRODUCT_TYPE_ID  \\\n",
              "0                                                NaN             1650   \n",
              "1                                                NaN             2755   \n",
              "2  Specifications: Color: Red, Material: Aluminiu...             7537   \n",
              "3  AISHAH Women's Lycra Cotton Ankel Leggings. Br...             2996   \n",
              "4                                                NaN             6112   \n",
              "\n",
              "   PRODUCT_LENGTH  \n",
              "0     2125.980000  \n",
              "1      393.700000  \n",
              "2      748.031495  \n",
              "3      787.401574  \n",
              "4      598.424000  "
            ],
            "text/html": [
              "\n",
              "  <div id=\"df-92724774-fa79-41ba-bd95-ac9b2bea3ae1\">\n",
              "    <div class=\"colab-df-container\">\n",
              "      <div>\n",
              "<style scoped>\n",
              "    .dataframe tbody tr th:only-of-type {\n",
              "        vertical-align: middle;\n",
              "    }\n",
              "\n",
              "    .dataframe tbody tr th {\n",
              "        vertical-align: top;\n",
              "    }\n",
              "\n",
              "    .dataframe thead th {\n",
              "        text-align: right;\n",
              "    }\n",
              "</style>\n",
              "<table border=\"1\" class=\"dataframe\">\n",
              "  <thead>\n",
              "    <tr style=\"text-align: right;\">\n",
              "      <th></th>\n",
              "      <th>PRODUCT_ID</th>\n",
              "      <th>TITLE</th>\n",
              "      <th>BULLET_POINTS</th>\n",
              "      <th>DESCRIPTION</th>\n",
              "      <th>PRODUCT_TYPE_ID</th>\n",
              "      <th>PRODUCT_LENGTH</th>\n",
              "    </tr>\n",
              "  </thead>\n",
              "  <tbody>\n",
              "    <tr>\n",
              "      <th>0</th>\n",
              "      <td>1925202</td>\n",
              "      <td>ArtzFolio Tulip Flowers Blackout Curtain for D...</td>\n",
              "      <td>[LUXURIOUS &amp; APPEALING: Beautiful custom-made ...</td>\n",
              "      <td>NaN</td>\n",
              "      <td>1650</td>\n",
              "      <td>2125.980000</td>\n",
              "    </tr>\n",
              "    <tr>\n",
              "      <th>1</th>\n",
              "      <td>2673191</td>\n",
              "      <td>Marks &amp; Spencer Girls' Pyjama Sets T86_2561C_N...</td>\n",
              "      <td>[Harry Potter Hedwig Pyjamas (6-16 Yrs),100% c...</td>\n",
              "      <td>NaN</td>\n",
              "      <td>2755</td>\n",
              "      <td>393.700000</td>\n",
              "    </tr>\n",
              "    <tr>\n",
              "      <th>2</th>\n",
              "      <td>2765088</td>\n",
              "      <td>PRIKNIK Horn Red Electric Air Horn Compressor ...</td>\n",
              "      <td>[Loud Dual Tone Trumpet Horn, Compatible With ...</td>\n",
              "      <td>Specifications: Color: Red, Material: Aluminiu...</td>\n",
              "      <td>7537</td>\n",
              "      <td>748.031495</td>\n",
              "    </tr>\n",
              "    <tr>\n",
              "      <th>3</th>\n",
              "      <td>1594019</td>\n",
              "      <td>ALISHAH Women's Cotton Ankle Length Leggings C...</td>\n",
              "      <td>[Made By 95%cotton and 5% Lycra which gives yo...</td>\n",
              "      <td>AISHAH Women's Lycra Cotton Ankel Leggings. Br...</td>\n",
              "      <td>2996</td>\n",
              "      <td>787.401574</td>\n",
              "    </tr>\n",
              "    <tr>\n",
              "      <th>4</th>\n",
              "      <td>283658</td>\n",
              "      <td>The United Empire Loyalists: A Chronicle of th...</td>\n",
              "      <td>NaN</td>\n",
              "      <td>NaN</td>\n",
              "      <td>6112</td>\n",
              "      <td>598.424000</td>\n",
              "    </tr>\n",
              "  </tbody>\n",
              "</table>\n",
              "</div>\n",
              "      <button class=\"colab-df-convert\" onclick=\"convertToInteractive('df-92724774-fa79-41ba-bd95-ac9b2bea3ae1')\"\n",
              "              title=\"Convert this dataframe to an interactive table.\"\n",
              "              style=\"display:none;\">\n",
              "        \n",
              "  <svg xmlns=\"http://www.w3.org/2000/svg\" height=\"24px\"viewBox=\"0 0 24 24\"\n",
              "       width=\"24px\">\n",
              "    <path d=\"M0 0h24v24H0V0z\" fill=\"none\"/>\n",
              "    <path d=\"M18.56 5.44l.94 2.06.94-2.06 2.06-.94-2.06-.94-.94-2.06-.94 2.06-2.06.94zm-11 1L8.5 8.5l.94-2.06 2.06-.94-2.06-.94L8.5 2.5l-.94 2.06-2.06.94zm10 10l.94 2.06.94-2.06 2.06-.94-2.06-.94-.94-2.06-.94 2.06-2.06.94z\"/><path d=\"M17.41 7.96l-1.37-1.37c-.4-.4-.92-.59-1.43-.59-.52 0-1.04.2-1.43.59L10.3 9.45l-7.72 7.72c-.78.78-.78 2.05 0 2.83L4 21.41c.39.39.9.59 1.41.59.51 0 1.02-.2 1.41-.59l7.78-7.78 2.81-2.81c.8-.78.8-2.07 0-2.86zM5.41 20L4 18.59l7.72-7.72 1.47 1.35L5.41 20z\"/>\n",
              "  </svg>\n",
              "      </button>\n",
              "      \n",
              "  <style>\n",
              "    .colab-df-container {\n",
              "      display:flex;\n",
              "      flex-wrap:wrap;\n",
              "      gap: 12px;\n",
              "    }\n",
              "\n",
              "    .colab-df-convert {\n",
              "      background-color: #E8F0FE;\n",
              "      border: none;\n",
              "      border-radius: 50%;\n",
              "      cursor: pointer;\n",
              "      display: none;\n",
              "      fill: #1967D2;\n",
              "      height: 32px;\n",
              "      padding: 0 0 0 0;\n",
              "      width: 32px;\n",
              "    }\n",
              "\n",
              "    .colab-df-convert:hover {\n",
              "      background-color: #E2EBFA;\n",
              "      box-shadow: 0px 1px 2px rgba(60, 64, 67, 0.3), 0px 1px 3px 1px rgba(60, 64, 67, 0.15);\n",
              "      fill: #174EA6;\n",
              "    }\n",
              "\n",
              "    [theme=dark] .colab-df-convert {\n",
              "      background-color: #3B4455;\n",
              "      fill: #D2E3FC;\n",
              "    }\n",
              "\n",
              "    [theme=dark] .colab-df-convert:hover {\n",
              "      background-color: #434B5C;\n",
              "      box-shadow: 0px 1px 3px 1px rgba(0, 0, 0, 0.15);\n",
              "      filter: drop-shadow(0px 1px 2px rgba(0, 0, 0, 0.3));\n",
              "      fill: #FFFFFF;\n",
              "    }\n",
              "  </style>\n",
              "\n",
              "      <script>\n",
              "        const buttonEl =\n",
              "          document.querySelector('#df-92724774-fa79-41ba-bd95-ac9b2bea3ae1 button.colab-df-convert');\n",
              "        buttonEl.style.display =\n",
              "          google.colab.kernel.accessAllowed ? 'block' : 'none';\n",
              "\n",
              "        async function convertToInteractive(key) {\n",
              "          const element = document.querySelector('#df-92724774-fa79-41ba-bd95-ac9b2bea3ae1');\n",
              "          const dataTable =\n",
              "            await google.colab.kernel.invokeFunction('convertToInteractive',\n",
              "                                                     [key], {});\n",
              "          if (!dataTable) return;\n",
              "\n",
              "          const docLinkHtml = 'Like what you see? Visit the ' +\n",
              "            '<a target=\"_blank\" href=https://colab.research.google.com/notebooks/data_table.ipynb>data table notebook</a>'\n",
              "            + ' to learn more about interactive tables.';\n",
              "          element.innerHTML = '';\n",
              "          dataTable['output_type'] = 'display_data';\n",
              "          await google.colab.output.renderOutput(dataTable, element);\n",
              "          const docLink = document.createElement('div');\n",
              "          docLink.innerHTML = docLinkHtml;\n",
              "          element.appendChild(docLink);\n",
              "        }\n",
              "      </script>\n",
              "    </div>\n",
              "  </div>\n",
              "  "
            ]
          },
          "metadata": {},
          "execution_count": 5
        }
      ]
    },
    {
      "cell_type": "markdown",
      "source": [
        "## NULL Checks"
      ],
      "metadata": {
        "id": "dvLyKCvb64WX"
      }
    },
    {
      "cell_type": "code",
      "source": [
        "train.isna().sum()"
      ],
      "metadata": {
        "colab": {
          "base_uri": "https://localhost:8080/"
        },
        "id": "gYTWMqj0_T8l",
        "outputId": "528b3c59-d3aa-400d-ad79-80c3780de5cb"
      },
      "execution_count": 6,
      "outputs": [
        {
          "output_type": "execute_result",
          "data": {
            "text/plain": [
              "PRODUCT_ID               0\n",
              "TITLE                   12\n",
              "BULLET_POINTS       837364\n",
              "DESCRIPTION        1157381\n",
              "PRODUCT_TYPE_ID          0\n",
              "PRODUCT_LENGTH           0\n",
              "dtype: int64"
            ]
          },
          "metadata": {},
          "execution_count": 6
        }
      ]
    },
    {
      "cell_type": "code",
      "source": [
        "test.isna().sum()"
      ],
      "metadata": {
        "colab": {
          "base_uri": "https://localhost:8080/"
        },
        "id": "5LWs89_lnZxC",
        "outputId": "c5016912-a919-465e-a588-229803684805"
      },
      "execution_count": 7,
      "outputs": [
        {
          "output_type": "execute_result",
          "data": {
            "text/plain": [
              "PRODUCT_ID              0\n",
              "TITLE                   5\n",
              "BULLET_POINTS      275922\n",
              "DESCRIPTION        380001\n",
              "PRODUCT_TYPE_ID         0\n",
              "dtype: int64"
            ]
          },
          "metadata": {},
          "execution_count": 7
        }
      ]
    },
    {
      "cell_type": "code",
      "source": [
        "ltrain = len(train)\n",
        "train.isna().sum()/ltrain"
      ],
      "metadata": {
        "colab": {
          "base_uri": "https://localhost:8080/"
        },
        "id": "YYFbvLm1_aAz",
        "outputId": "89a97867-3748-4fba-a4b1-76a957d6c84d"
      },
      "execution_count": 8,
      "outputs": [
        {
          "output_type": "execute_result",
          "data": {
            "text/plain": [
              "PRODUCT_ID         0.000000\n",
              "TITLE              0.000005\n",
              "BULLET_POINTS      0.372212\n",
              "DESCRIPTION        0.514461\n",
              "PRODUCT_TYPE_ID    0.000000\n",
              "PRODUCT_LENGTH     0.000000\n",
              "dtype: float64"
            ]
          },
          "metadata": {},
          "execution_count": 8
        }
      ]
    },
    {
      "cell_type": "code",
      "source": [
        "ltest = len(test)\n",
        "test.isna().sum()/ltest"
      ],
      "metadata": {
        "colab": {
          "base_uri": "https://localhost:8080/"
        },
        "id": "PwEHtA64np21",
        "outputId": "3f9ffdc3-d6ac-416e-b02e-757f1252d2a8"
      },
      "execution_count": 9,
      "outputs": [
        {
          "output_type": "execute_result",
          "data": {
            "text/plain": [
              "PRODUCT_ID         0.000000\n",
              "TITLE              0.000007\n",
              "BULLET_POINTS      0.375539\n",
              "DESCRIPTION        0.517194\n",
              "PRODUCT_TYPE_ID    0.000000\n",
              "dtype: float64"
            ]
          },
          "metadata": {},
          "execution_count": 9
        }
      ]
    },
    {
      "cell_type": "code",
      "source": [
        "rtrain = len(train[train[\"DESCRIPTION\"].isna() & train[\"BULLET_POINTS\"].isna()])\n",
        "print(rtrain, rtrain/ltrain)\n",
        "\n",
        "rtest = len(test[test[\"DESCRIPTION\"].isna() & test[\"BULLET_POINTS\"].isna()])\n",
        "print(rtest, rtest/ltest)"
      ],
      "metadata": {
        "colab": {
          "base_uri": "https://localhost:8080/"
        },
        "id": "y8Rxx2q2_koU",
        "outputId": "46f2b988-cce9-4aac-990b-3d70c852bacd"
      },
      "execution_count": 10,
      "outputs": [
        {
          "output_type": "stream",
          "name": "stdout",
          "text": [
            "783507 0.3482720791857396\n",
            "258190 0.3514051305502929\n"
          ]
        }
      ]
    },
    {
      "cell_type": "code",
      "source": [
        "rtrain2 = len(train[train[\"DESCRIPTION\"].isna() & train[\"BULLET_POINTS\"].isna() & train[\"TITLE\"].isna()])\n",
        "print(rtrain2, rtrain2/ltrain)\n",
        "\n",
        "rtest2 = len(test[test[\"DESCRIPTION\"].isna() & test[\"BULLET_POINTS\"].isna() & test[\"TITLE\"].isna()])\n",
        "print(rtest2, rtest2/ltest)"
      ],
      "metadata": {
        "id": "fqeqtgwRAOHa",
        "colab": {
          "base_uri": "https://localhost:8080/"
        },
        "outputId": "bd851205-4b54-4278-d31e-fd185d6340aa"
      },
      "execution_count": 11,
      "outputs": [
        {
          "output_type": "stream",
          "name": "stdout",
          "text": [
            "10 4.445041067734425e-06\n",
            "3 4.083099235643823e-06\n"
          ]
        }
      ]
    },
    {
      "cell_type": "markdown",
      "source": [
        "## Distribution"
      ],
      "metadata": {
        "id": "RgNtG1Po68b6"
      }
    },
    {
      "cell_type": "code",
      "source": [
        "train.describe()[\"PRODUCT_LENGTH\"]"
      ],
      "metadata": {
        "colab": {
          "base_uri": "https://localhost:8080/"
        },
        "id": "-1dsplj9z-K_",
        "outputId": "66defd65-adfe-4d13-aa1d-52ecc3131ad1"
      },
      "execution_count": 16,
      "outputs": [
        {
          "output_type": "execute_result",
          "data": {
            "text/plain": [
              "count    2.249698e+06\n",
              "mean     4.071839e+03\n",
              "std      1.351685e+06\n",
              "min      1.000000e+00\n",
              "25%      5.118110e+02\n",
              "50%      6.630000e+02\n",
              "75%      1.062992e+03\n",
              "max      1.885801e+09\n",
              "Name: PRODUCT_LENGTH, dtype: float64"
            ]
          },
          "metadata": {},
          "execution_count": 16
        }
      ]
    },
    {
      "cell_type": "code",
      "source": [
        "ax = sns.histplot(np.log10(train[\"PRODUCT_LENGTH\"]), bins = 40, stat=\"count\")\n",
        "ax.set(xlabel = \"log10(PRODUCT_LENGTH)\", ylabel=\"count\")"
      ],
      "metadata": {
        "colab": {
          "base_uri": "https://localhost:8080/",
          "height": 467
        },
        "id": "3DmTbjJs1LDs",
        "outputId": "7096adbe-210b-4226-d4a2-3b1f012baf6a"
      },
      "execution_count": 51,
      "outputs": [
        {
          "output_type": "execute_result",
          "data": {
            "text/plain": [
              "[Text(0.5, 0, 'log10(PRODUCT_LENGTH)'), Text(0, 0.5, 'count')]"
            ]
          },
          "metadata": {},
          "execution_count": 51
        },
        {
          "output_type": "display_data",
          "data": {
            "text/plain": [
              "<Figure size 640x480 with 1 Axes>"
            ],
            "image/png": "[encoded data removed]"
          },
          "metadata": {}
        }
      ]
    },
    {
      "cell_type": "markdown",
      "source": [
        "## Product Type"
      ],
      "metadata": {
        "id": "ibiklORx7OcE"
      }
    },
    {
      "cell_type": "code",
      "source": [
        "trainpid = set(train[\"PRODUCT_TYPE_ID\"])\n",
        "testpid = set(train[\"PRODUCT_TYPE_ID\"])\n",
        "\n",
        "print(len(trainpid), len(testpid), len(trainpid.intersection(testpid)))"
      ],
      "metadata": {
        "colab": {
          "base_uri": "https://localhost:8080/"
        },
        "id": "KjeNRLhF2RD8",
        "outputId": "a99bc959-0522-4c83-8724-a4c81139caed"
      },
      "execution_count": 29,
      "outputs": [
        {
          "output_type": "stream",
          "name": "stdout",
          "text": [
            "12907 12907 12907\n"
          ]
        }
      ]
    },
    {
      "cell_type": "code",
      "source": [
        "pid_summary = []\n",
        "for pid in trainpid : \n",
        "  s = train[train[\"PRODUCT_TYPE_ID\"] == pid].describe()[\"PRODUCT_LENGTH\"]\n",
        "  r = s.to_dict()\n",
        "  r[\"PRODUCT_TYPE_ID\"] = pid\n",
        "  pid_summary.append(r)\n",
        "\n",
        "pid_summary = pd.DataFrame(pid_summary)\n",
        "pid_summary.info()"
      ],
      "metadata": {
        "colab": {
          "base_uri": "https://localhost:8080/"
        },
        "id": "ayb8ZyLi74q_",
        "outputId": "14b685f6-18aa-48fa-fb0c-8e8c00fb1764"
      },
      "execution_count": 33,
      "outputs": [
        {
          "output_type": "stream",
          "name": "stdout",
          "text": [
            "<class 'pandas.core.frame.DataFrame'>\n",
            "RangeIndex: 12907 entries, 0 to 12906\n",
            "Data columns (total 9 columns):\n",
            " #   Column           Non-Null Count  Dtype  \n",
            "---  ------           --------------  -----  \n",
            " 0   count            12907 non-null  float64\n",
            " 1   mean             12907 non-null  float64\n",
            " 2   std              11015 non-null  float64\n",
            " 3   min              12907 non-null  float64\n",
            " 4   25%              12907 non-null  float64\n",
            " 5   50%              12907 non-null  float64\n",
            " 6   75%              12907 non-null  float64\n",
            " 7   max              12907 non-null  float64\n",
            " 8   PRODUCT_TYPE_ID  12907 non-null  int64  \n",
            "dtypes: float64(8), int64(1)\n",
            "memory usage: 907.6 KB\n"
          ]
        }
      ]
    },
    {
      "cell_type": "code",
      "source": [
        "pid_summary[pid_summary[\"std\"].isna()][\"count\"].unique()"
      ],
      "metadata": {
        "colab": {
          "base_uri": "https://localhost:8080/"
        },
        "id": "P3AkhUzq8cWK",
        "outputId": "b0ecafbe-86a7-44a2-f630-83850bd4ecb1"
      },
      "execution_count": 35,
      "outputs": [
        {
          "output_type": "execute_result",
          "data": {
            "text/plain": [
              "array([1.])"
            ]
          },
          "metadata": {},
          "execution_count": 35
        }
      ]
    },
    {
      "cell_type": "code",
      "source": [
        "ax = sns.histplot(pid_summary[pid_summary[\"std\"].isna() == False][\"std\"], bins = 30, stat=\"count\")\n",
        "ax.set(xlabel = \"std\", ylabel=\"count\")"
      ],
      "metadata": {
        "colab": {
          "base_uri": "https://localhost:8080/",
          "height": 466
        },
        "id": "YNgr_LWTE1jP",
        "outputId": "e8f4dbbe-5c61-4aad-e141-1784a35335fc"
      },
      "execution_count": 41,
      "outputs": [
        {
          "output_type": "execute_result",
          "data": {
            "text/plain": [
              "[Text(0.5, 0, 'std'), Text(0, 0.5, 'count')]"
            ]
          },
          "metadata": {},
          "execution_count": 41
        },
        {
          "output_type": "display_data",
          "data": {
            "text/plain": [
              "<Figure size 640x480 with 1 Axes>"
            ],
            "image/png": "[encoded data removed]"
          },
          "metadata": {}
        }
      ]
    },
    {
      "cell_type": "code",
      "source": [
        "ax = sns.histplot(np.log10(pid_summary[~(pid_summary[\"std\"].isna()) & pid_summary[\"std\"]!=0][\"std\"]), bins = 30, stat=\"count\")\n",
        "ax.set(xlabel = \"log10(std)\", ylabel=\"count\")"
      ],
      "metadata": {
        "colab": {
          "base_uri": "https://localhost:8080/",
          "height": 466
        },
        "id": "9E2ba-1MFULx",
        "outputId": "86170b0f-6a85-4063-a541-98a43ba9934f"
      },
      "execution_count": 50,
      "outputs": [
        {
          "output_type": "execute_result",
          "data": {
            "text/plain": [
              "[Text(0.5, 0, 'log10(std)'), Text(0, 0.5, 'count')]"
            ]
          },
          "metadata": {},
          "execution_count": 50
        },
        {
          "output_type": "display_data",
          "data": {
            "text/plain": [
              "<Figure size 640x480 with 1 Axes>"
            ],
            "image/png": "[encoded data removed]"
          },
          "metadata": {}
        }
      ]
    },
    {
      "cell_type": "markdown",
      "source": [
        "### Drilldown on Product Type"
      ],
      "metadata": {
        "id": "f9bEt_E8JIz0"
      }
    },
    {
      "cell_type": "code",
      "source": [
        "pid_summary[pid_summary[\"std\"] > 10e5].head(10)"
      ],
      "metadata": {
        "colab": {
          "base_uri": "https://localhost:8080/",
          "height": 363
        },
        "id": "1-I3Cz1mJowi",
        "outputId": "fede1dc1-41ff-4382-e9ff-8cb01d66d867"
      },
      "execution_count": 54,
      "outputs": [
        {
          "output_type": "execute_result",
          "data": {
            "text/plain": [
              "       count           mean           std         min         25%  \\\n",
              "227   2752.0   29434.505829  1.500960e+06    1.000000  260.000000   \n",
              "601    712.0   56357.915859  1.475417e+06    3.937000  647.500000   \n",
              "1277   145.0  598281.559789  7.192841e+06   38.000000  590.551180   \n",
              "1281   224.0  283953.681172  4.233345e+06   40.000000  644.704724   \n",
              "1374   397.0  567628.342268  1.128876e+07   39.370079  866.141731   \n",
              "3008   169.0  214683.677345  1.378404e+06  100.000000  400.000000   \n",
              "3009   191.0  430419.843303  1.937892e+06    3.937000  590.551180   \n",
              "3010   660.0  629968.667156  2.168572e+06   39.000000  500.000000   \n",
              "3012   506.0  458321.659018  1.890238e+06    3.937000  500.000000   \n",
              "3014  2104.0  170673.235073  1.189060e+06    3.937000  500.000000   \n",
              "\n",
              "              50%          75%          max  PRODUCT_TYPE_ID  \n",
              "227    500.000000   841.379921   78740200.0              228  \n",
              "601   1181.102361  1348.500000   39370100.0              604  \n",
              "1277   944.881889  1338.580000   86614220.0             1295  \n",
              "1281  1145.866141  1400.000000   63360000.0             1299  \n",
              "1374  1102.360000  1299.212597  224928000.0             1393  \n",
              "3008   590.551180  1062.992125    9515100.0             3067  \n",
              "3009   590.551180   793.700787    9545200.0             3068  \n",
              "3010   750.000000   950.000000    9961600.0             3069  \n",
              "3012   800.000000  1300.000000   10084200.0             3071  \n",
              "3014   800.000000  1299.212597    9836700.0             3073  "
            ],
            "text/html": [
              "\n",
              "  <div id=\"df-c80f60e9-11ea-4f67-a08d-cf8a8b755151\">\n",
              "    <div class=\"colab-df-container\">\n",
              "      <div>\n",
              "<style scoped>\n",
              "    .dataframe tbody tr th:only-of-type {\n",
              "        vertical-align: middle;\n",
              "    }\n",
              "\n",
              "    .dataframe tbody tr th {\n",
              "        vertical-align: top;\n",
              "    }\n",
              "\n",
              "    .dataframe thead th {\n",
              "        text-align: right;\n",
              "    }\n",
              "</style>\n",
              "<table border=\"1\" class=\"dataframe\">\n",
              "  <thead>\n",
              "    <tr style=\"text-align: right;\">\n",
              "      <th></th>\n",
              "      <th>count</th>\n",
              "      <th>mean</th>\n",
              "      <th>std</th>\n",
              "      <th>min</th>\n",
              "      <th>25%</th>\n",
              "      <th>50%</th>\n",
              "      <th>75%</th>\n",
              "      <th>max</th>\n",
              "      <th>PRODUCT_TYPE_ID</th>\n",
              "    </tr>\n",
              "  </thead>\n",
              "  <tbody>\n",
              "    <tr>\n",
              "      <th>227</th>\n",
              "      <td>2752.0</td>\n",
              "      <td>29434.505829</td>\n",
              "      <td>1.500960e+06</td>\n",
              "      <td>1.000000</td>\n",
              "      <td>260.000000</td>\n",
              "      <td>500.000000</td>\n",
              "      <td>841.379921</td>\n",
              "      <td>78740200.0</td>\n",
              "      <td>228</td>\n",
              "    </tr>\n",
              "    <tr>\n",
              "      <th>601</th>\n",
              "      <td>712.0</td>\n",
              "      <td>56357.915859</td>\n",
              "      <td>1.475417e+06</td>\n",
              "      <td>3.937000</td>\n",
              "      <td>647.500000</td>\n",
              "      <td>1181.102361</td>\n",
              "      <td>1348.500000</td>\n",
              "      <td>39370100.0</td>\n",
              "      <td>604</td>\n",
              "    </tr>\n",
              "    <tr>\n",
              "      <th>1277</th>\n",
              "      <td>145.0</td>\n",
              "      <td>598281.559789</td>\n",
              "      <td>7.192841e+06</td>\n",
              "      <td>38.000000</td>\n",
              "      <td>590.551180</td>\n",
              "      <td>944.881889</td>\n",
              "      <td>1338.580000</td>\n",
              "      <td>86614220.0</td>\n",
              "      <td>1295</td>\n",
              "    </tr>\n",
              "    <tr>\n",
              "      <th>1281</th>\n",
              "      <td>224.0</td>\n",
              "      <td>283953.681172</td>\n",
              "      <td>4.233345e+06</td>\n",
              "      <td>40.000000</td>\n",
              "      <td>644.704724</td>\n",
              "      <td>1145.866141</td>\n",
              "      <td>1400.000000</td>\n",
              "      <td>63360000.0</td>\n",
              "      <td>1299</td>\n",
              "    </tr>\n",
              "    <tr>\n",
              "      <th>1374</th>\n",
              "      <td>397.0</td>\n",
              "      <td>567628.342268</td>\n",
              "      <td>1.128876e+07</td>\n",
              "      <td>39.370079</td>\n",
              "      <td>866.141731</td>\n",
              "      <td>1102.360000</td>\n",
              "      <td>1299.212597</td>\n",
              "      <td>224928000.0</td>\n",
              "      <td>1393</td>\n",
              "    </tr>\n",
              "    <tr>\n",
              "      <th>3008</th>\n",
              "      <td>169.0</td>\n",
              "      <td>214683.677345</td>\n",
              "      <td>1.378404e+06</td>\n",
              "      <td>100.000000</td>\n",
              "      <td>400.000000</td>\n",
              "      <td>590.551180</td>\n",
              "      <td>1062.992125</td>\n",
              "      <td>9515100.0</td>\n",
              "      <td>3067</td>\n",
              "    </tr>\n",
              "    <tr>\n",
              "      <th>3009</th>\n",
              "      <td>191.0</td>\n",
              "      <td>430419.843303</td>\n",
              "      <td>1.937892e+06</td>\n",
              "      <td>3.937000</td>\n",
              "      <td>590.551180</td>\n",
              "      <td>590.551180</td>\n",
              "      <td>793.700787</td>\n",
              "      <td>9545200.0</td>\n",
              "      <td>3068</td>\n",
              "    </tr>\n",
              "    <tr>\n",
              "      <th>3010</th>\n",
              "      <td>660.0</td>\n",
              "      <td>629968.667156</td>\n",
              "      <td>2.168572e+06</td>\n",
              "      <td>39.000000</td>\n",
              "      <td>500.000000</td>\n",
              "      <td>750.000000</td>\n",
              "      <td>950.000000</td>\n",
              "      <td>9961600.0</td>\n",
              "      <td>3069</td>\n",
              "    </tr>\n",
              "    <tr>\n",
              "      <th>3012</th>\n",
              "      <td>506.0</td>\n",
              "      <td>458321.659018</td>\n",
              "      <td>1.890238e+06</td>\n",
              "      <td>3.937000</td>\n",
              "      <td>500.000000</td>\n",
              "      <td>800.000000</td>\n",
              "      <td>1300.000000</td>\n",
              "      <td>10084200.0</td>\n",
              "      <td>3071</td>\n",
              "    </tr>\n",
              "    <tr>\n",
              "      <th>3014</th>\n",
              "      <td>2104.0</td>\n",
              "      <td>170673.235073</td>\n",
              "      <td>1.189060e+06</td>\n",
              "      <td>3.937000</td>\n",
              "      <td>500.000000</td>\n",
              "      <td>800.000000</td>\n",
              "      <td>1299.212597</td>\n",
              "      <td>9836700.0</td>\n",
              "      <td>3073</td>\n",
              "    </tr>\n",
              "  </tbody>\n",
              "</table>\n",
              "</div>\n",
              "      <button class=\"colab-df-convert\" onclick=\"convertToInteractive('df-c80f60e9-11ea-4f67-a08d-cf8a8b755151')\"\n",
              "              title=\"Convert this dataframe to an interactive table.\"\n",
              "              style=\"display:none;\">\n",
              "        \n",
              "  <svg xmlns=\"http://www.w3.org/2000/svg\" height=\"24px\"viewBox=\"0 0 24 24\"\n",
              "       width=\"24px\">\n",
              "    <path d=\"M0 0h24v24H0V0z\" fill=\"none\"/>\n",
              "    <path d=\"M18.56 5.44l.94 2.06.94-2.06 2.06-.94-2.06-.94-.94-2.06-.94 2.06-2.06.94zm-11 1L8.5 8.5l.94-2.06 2.06-.94-2.06-.94L8.5 2.5l-.94 2.06-2.06.94zm10 10l.94 2.06.94-2.06 2.06-.94-2.06-.94-.94-2.06-.94 2.06-2.06.94z\"/><path d=\"M17.41 7.96l-1.37-1.37c-.4-.4-.92-.59-1.43-.59-.52 0-1.04.2-1.43.59L10.3 9.45l-7.72 7.72c-.78.78-.78 2.05 0 2.83L4 21.41c.39.39.9.59 1.41.59.51 0 1.02-.2 1.41-.59l7.78-7.78 2.81-2.81c.8-.78.8-2.07 0-2.86zM5.41 20L4 18.59l7.72-7.72 1.47 1.35L5.41 20z\"/>\n",
              "  </svg>\n",
              "      </button>\n",
              "      \n",
              "  <style>\n",
              "    .colab-df-container {\n",
              "      display:flex;\n",
              "      flex-wrap:wrap;\n",
              "      gap: 12px;\n",
              "    }\n",
              "\n",
              "    .colab-df-convert {\n",
              "      background-color: #E8F0FE;\n",
              "      border: none;\n",
              "      border-radius: 50%;\n",
              "      cursor: pointer;\n",
              "      display: none;\n",
              "      fill: #1967D2;\n",
              "      height: 32px;\n",
              "      padding: 0 0 0 0;\n",
              "      width: 32px;\n",
              "    }\n",
              "\n",
              "    .colab-df-convert:hover {\n",
              "      background-color: #E2EBFA;\n",
              "      box-shadow: 0px 1px 2px rgba(60, 64, 67, 0.3), 0px 1px 3px 1px rgba(60, 64, 67, 0.15);\n",
              "      fill: #174EA6;\n",
              "    }\n",
              "\n",
              "    [theme=dark] .colab-df-convert {\n",
              "      background-color: #3B4455;\n",
              "      fill: #D2E3FC;\n",
              "    }\n",
              "\n",
              "    [theme=dark] .colab-df-convert:hover {\n",
              "      background-color: #434B5C;\n",
              "      box-shadow: 0px 1px 3px 1px rgba(0, 0, 0, 0.15);\n",
              "      filter: drop-shadow(0px 1px 2px rgba(0, 0, 0, 0.3));\n",
              "      fill: #FFFFFF;\n",
              "    }\n",
              "  </style>\n",
              "\n",
              "      <script>\n",
              "        const buttonEl =\n",
              "          document.querySelector('#df-c80f60e9-11ea-4f67-a08d-cf8a8b755151 button.colab-df-convert');\n",
              "        buttonEl.style.display =\n",
              "          google.colab.kernel.accessAllowed ? 'block' : 'none';\n",
              "\n",
              "        async function convertToInteractive(key) {\n",
              "          const element = document.querySelector('#df-c80f60e9-11ea-4f67-a08d-cf8a8b755151');\n",
              "          const dataTable =\n",
              "            await google.colab.kernel.invokeFunction('convertToInteractive',\n",
              "                                                     [key], {});\n",
              "          if (!dataTable) return;\n",
              "\n",
              "          const docLinkHtml = 'Like what you see? Visit the ' +\n",
              "            '<a target=\"_blank\" href=https://colab.research.google.com/notebooks/data_table.ipynb>data table notebook</a>'\n",
              "            + ' to learn more about interactive tables.';\n",
              "          element.innerHTML = '';\n",
              "          dataTable['output_type'] = 'display_data';\n",
              "          await google.colab.output.renderOutput(dataTable, element);\n",
              "          const docLink = document.createElement('div');\n",
              "          docLink.innerHTML = docLinkHtml;\n",
              "          element.appendChild(docLink);\n",
              "        }\n",
              "      </script>\n",
              "    </div>\n",
              "  </div>\n",
              "  "
            ]
          },
          "metadata": {},
          "execution_count": 54
        }
      ]
    },
    {
      "cell_type": "code",
      "source": [
        "abpid = list(pid_summary[pid_summary[\"std\"] > 10e5][\"PRODUCT_TYPE_ID\"])[0]\n",
        "trai"
      ],
      "metadata": {
        "colab": {
          "base_uri": "https://localhost:8080/",
          "height": 1000
        },
        "id": "gi8w4ctpF4bx",
        "outputId": "a7868cbc-c477-4ba7-ba9a-03bcbe7a5d3a"
      },
      "execution_count": 52,
      "outputs": [
        {
          "output_type": "execute_result",
          "data": {
            "text/plain": [
              "        count          mean           std          min          25%  \\\n",
              "227    2752.0  2.943451e+04  1.500960e+06     1.000000   260.000000   \n",
              "601     712.0  5.635792e+04  1.475417e+06     3.937000   647.500000   \n",
              "1277    145.0  5.982816e+05  7.192841e+06    38.000000   590.551180   \n",
              "1281    224.0  2.839537e+05  4.233345e+06    40.000000   644.704724   \n",
              "1374    397.0  5.676283e+05  1.128876e+07    39.370079   866.141731   \n",
              "3008    169.0  2.146837e+05  1.378404e+06   100.000000   400.000000   \n",
              "3009    191.0  4.304198e+05  1.937892e+06     3.937000   590.551180   \n",
              "3010    660.0  6.299687e+05  2.168572e+06    39.000000   500.000000   \n",
              "3012    506.0  4.583217e+05  1.890238e+06     3.937000   500.000000   \n",
              "3014   2104.0  1.706732e+05  1.189060e+06     3.937000   500.000000   \n",
              "3016    427.0  3.869775e+05  1.766485e+06     8.000000   500.000000   \n",
              "3177     45.0  3.030281e+05  1.415741e+06   500.000000  1000.000000   \n",
              "3228   3424.0  2.316220e+04  1.299344e+06     1.000000   838.582676   \n",
              "4153    109.0  4.409852e+06  4.600554e+07    39.370079   787.400000   \n",
              "4875      5.0  9.710384e+05  2.169188e+06   800.000000   984.251967   \n",
              "4880     29.0  2.064101e+05  1.108688e+06    98.000000   196.850393   \n",
              "4884     48.0  4.592989e+05  1.911925e+06    98.000000   500.000000   \n",
              "5019     53.0  3.062593e+05  2.225157e+06   118.110236   472.440944   \n",
              "5315    184.0  3.531888e+05  3.012378e+06     6.000000   393.700787   \n",
              "5343     11.0  1.077975e+06  3.559742e+06  2200.000000  3600.000000   \n",
              "5848   4390.0  4.318839e+05  2.846185e+07     1.000000   452.755905   \n",
              "6242   1968.0  3.341477e+04  1.428255e+06     3.937000   314.960000   \n",
              "6431     18.0  9.371237e+05  3.971420e+06   236.220472   722.439893   \n",
              "8974     51.0  1.494016e+06  1.064617e+07    39.370079   513.779527   \n",
              "9781    353.0  1.798534e+05  3.372293e+06    39.370000   157.480315   \n",
              "10786   545.0  3.589084e+05  6.295099e+06     2.000000   140.000000   \n",
              "10980   102.0  3.658706e+05  3.563302e+06    39.370079   393.700787   \n",
              "10982  1876.0  1.020360e+05  1.199822e+06    15.748031   390.000000   \n",
              "11173   448.0  3.967988e+05  8.381702e+06    15.748000   393.700787   \n",
              "11613   175.0  2.250286e+06  2.976096e+07    39.370079   236.220472   \n",
              "12852    12.0  1.164731e+06  2.917011e+06    39.370079   500.000000   \n",
              "\n",
              "               50%           75%           max  PRODUCT_TYPE_ID  \n",
              "227     500.000000    841.379921  7.874020e+07              228  \n",
              "601    1181.102361   1348.500000  3.937010e+07              604  \n",
              "1277    944.881889   1338.580000  8.661422e+07             1295  \n",
              "1281   1145.866141   1400.000000  6.336000e+07             1299  \n",
              "1374   1102.360000   1299.212597  2.249280e+08             1393  \n",
              "3008    590.551180   1062.992125  9.515100e+06             3067  \n",
              "3009    590.551180    793.700787  9.545200e+06             3068  \n",
              "3010    750.000000    950.000000  9.961600e+06             3069  \n",
              "3012    800.000000   1300.000000  1.008420e+07             3071  \n",
              "3014    800.000000   1299.212597  9.836700e+06             3073  \n",
              "3016    800.000000   1000.000000  1.006430e+07             3075  \n",
              "3177   1102.362204   1300.000000  6.794300e+06             3239  \n",
              "3228    999.998000   1102.362204  7.603200e+07             3291  \n",
              "4153   2578.740155   4800.000000  4.803152e+08             4252  \n",
              "4875   1003.935000   1003.935000  4.851400e+06             5011  \n",
              "4880    600.000000    700.000000  5.971000e+06             5016  \n",
              "4884    701.000000    790.551180  1.010220e+07             5020  \n",
              "5019    590.551180    649.606299  1.620000e+07             5164  \n",
              "5315    575.000000   1199.999999  3.600000e+07             5471  \n",
              "5343   4200.000000   4765.000000  1.181100e+07             5500  \n",
              "5848   1250.000000   2303.149604  1.885801e+09             6030  \n",
              "6242    511.811023    708.661417  6.336000e+07             6426  \n",
              "6431   1074.747000   1522.361500  1.685036e+07             6618  \n",
              "8974    787.401574   1712.595000  7.603200e+07             9308  \n",
              "9781    275.590551    450.000000  6.336000e+07            10162  \n",
              "10786   236.220472    420.000000  1.440000e+08            11191  \n",
              "10980   669.145669  35433.000000  3.600000e+07            11396  \n",
              "10982   472.440944    669.467500  3.600000e+07            11398  \n",
              "11173   684.645669   1023.622046  1.774080e+08            11601  \n",
              "11613   401.574000    629.921259  3.937010e+08            12069  \n",
              "12852  1180.000000   1239.330708  9.466000e+06            13362  "
            ],
            "text/html": [
              "\n",
              "  <div id=\"df-e2e5f788-922b-441b-a7b5-6dfc93b64c39\">\n",
              "    <div class=\"colab-df-container\">\n",
              "      <div>\n",
              "<style scoped>\n",
              "    .dataframe tbody tr th:only-of-type {\n",
              "        vertical-align: middle;\n",
              "    }\n",
              "\n",
              "    .dataframe tbody tr th {\n",
              "        vertical-align: top;\n",
              "    }\n",
              "\n",
              "    .dataframe thead th {\n",
              "        text-align: right;\n",
              "    }\n",
              "</style>\n",
              "<table border=\"1\" class=\"dataframe\">\n",
              "  <thead>\n",
              "    <tr style=\"text-align: right;\">\n",
              "      <th></th>\n",
              "      <th>count</th>\n",
              "      <th>mean</th>\n",
              "      <th>std</th>\n",
              "      <th>min</th>\n",
              "      <th>25%</th>\n",
              "      <th>50%</th>\n",
              "      <th>75%</th>\n",
              "      <th>max</th>\n",
              "      <th>PRODUCT_TYPE_ID</th>\n",
              "    </tr>\n",
              "  </thead>\n",
              "  <tbody>\n",
              "    <tr>\n",
              "      <th>227</th>\n",
              "      <td>2752.0</td>\n",
              "      <td>2.943451e+04</td>\n",
              "      <td>1.500960e+06</td>\n",
              "      <td>1.000000</td>\n",
              "      <td>260.000000</td>\n",
              "      <td>500.000000</td>\n",
              "      <td>841.379921</td>\n",
              "      <td>7.874020e+07</td>\n",
              "      <td>228</td>\n",
              "    </tr>\n",
              "    <tr>\n",
              "      <th>601</th>\n",
              "      <td>712.0</td>\n",
              "      <td>5.635792e+04</td>\n",
              "      <td>1.475417e+06</td>\n",
              "      <td>3.937000</td>\n",
              "      <td>647.500000</td>\n",
              "      <td>1181.102361</td>\n",
              "      <td>1348.500000</td>\n",
              "      <td>3.937010e+07</td>\n",
              "      <td>604</td>\n",
              "    </tr>\n",
              "    <tr>\n",
              "      <th>1277</th>\n",
              "      <td>145.0</td>\n",
              "      <td>5.982816e+05</td>\n",
              "      <td>7.192841e+06</td>\n",
              "      <td>38.000000</td>\n",
              "      <td>590.551180</td>\n",
              "      <td>944.881889</td>\n",
              "      <td>1338.580000</td>\n",
              "      <td>8.661422e+07</td>\n",
              "      <td>1295</td>\n",
              "    </tr>\n",
              "    <tr>\n",
              "      <th>1281</th>\n",
              "      <td>224.0</td>\n",
              "      <td>2.839537e+05</td>\n",
              "      <td>4.233345e+06</td>\n",
              "      <td>40.000000</td>\n",
              "      <td>644.704724</td>\n",
              "      <td>1145.866141</td>\n",
              "      <td>1400.000000</td>\n",
              "      <td>6.336000e+07</td>\n",
              "      <td>1299</td>\n",
              "    </tr>\n",
              "    <tr>\n",
              "      <th>1374</th>\n",
              "      <td>397.0</td>\n",
              "      <td>5.676283e+05</td>\n",
              "      <td>1.128876e+07</td>\n",
              "      <td>39.370079</td>\n",
              "      <td>866.141731</td>\n",
              "      <td>1102.360000</td>\n",
              "      <td>1299.212597</td>\n",
              "      <td>2.249280e+08</td>\n",
              "      <td>1393</td>\n",
              "    </tr>\n",
              "    <tr>\n",
              "      <th>3008</th>\n",
              "      <td>169.0</td>\n",
              "      <td>2.146837e+05</td>\n",
              "      <td>1.378404e+06</td>\n",
              "      <td>100.000000</td>\n",
              "      <td>400.000000</td>\n",
              "      <td>590.551180</td>\n",
              "      <td>1062.992125</td>\n",
              "      <td>9.515100e+06</td>\n",
              "      <td>3067</td>\n",
              "    </tr>\n",
              "    <tr>\n",
              "      <th>3009</th>\n",
              "      <td>191.0</td>\n",
              "      <td>4.304198e+05</td>\n",
              "      <td>1.937892e+06</td>\n",
              "      <td>3.937000</td>\n",
              "      <td>590.551180</td>\n",
              "      <td>590.551180</td>\n",
              "      <td>793.700787</td>\n",
              "      <td>9.545200e+06</td>\n",
              "      <td>3068</td>\n",
              "    </tr>\n",
              "    <tr>\n",
              "      <th>3010</th>\n",
              "      <td>660.0</td>\n",
              "      <td>6.299687e+05</td>\n",
              "      <td>2.168572e+06</td>\n",
              "      <td>39.000000</td>\n",
              "      <td>500.000000</td>\n",
              "      <td>750.000000</td>\n",
              "      <td>950.000000</td>\n",
              "      <td>9.961600e+06</td>\n",
              "      <td>3069</td>\n",
              "    </tr>\n",
              "    <tr>\n",
              "      <th>3012</th>\n",
              "      <td>506.0</td>\n",
              "      <td>4.583217e+05</td>\n",
              "      <td>1.890238e+06</td>\n",
              "      <td>3.937000</td>\n",
              "      <td>500.000000</td>\n",
              "      <td>800.000000</td>\n",
              "      <td>1300.000000</td>\n",
              "      <td>1.008420e+07</td>\n",
              "      <td>3071</td>\n",
              "    </tr>\n",
              "    <tr>\n",
              "      <th>3014</th>\n",
              "      <td>2104.0</td>\n",
              "      <td>1.706732e+05</td>\n",
              "      <td>1.189060e+06</td>\n",
              "      <td>3.937000</td>\n",
              "      <td>500.000000</td>\n",
              "      <td>800.000000</td>\n",
              "      <td>1299.212597</td>\n",
              "      <td>9.836700e+06</td>\n",
              "      <td>3073</td>\n",
              "    </tr>\n",
              "    <tr>\n",
              "      <th>3016</th>\n",
              "      <td>427.0</td>\n",
              "      <td>3.869775e+05</td>\n",
              "      <td>1.766485e+06</td>\n",
              "      <td>8.000000</td>\n",
              "      <td>500.000000</td>\n",
              "      <td>800.000000</td>\n",
              "      <td>1000.000000</td>\n",
              "      <td>1.006430e+07</td>\n",
              "      <td>3075</td>\n",
              "    </tr>\n",
              "    <tr>\n",
              "      <th>3177</th>\n",
              "      <td>45.0</td>\n",
              "      <td>3.030281e+05</td>\n",
              "      <td>1.415741e+06</td>\n",
              "      <td>500.000000</td>\n",
              "      <td>1000.000000</td>\n",
              "      <td>1102.362204</td>\n",
              "      <td>1300.000000</td>\n",
              "      <td>6.794300e+06</td>\n",
              "      <td>3239</td>\n",
              "    </tr>\n",
              "    <tr>\n",
              "      <th>3228</th>\n",
              "      <td>3424.0</td>\n",
              "      <td>2.316220e+04</td>\n",
              "      <td>1.299344e+06</td>\n",
              "      <td>1.000000</td>\n",
              "      <td>838.582676</td>\n",
              "      <td>999.998000</td>\n",
              "      <td>1102.362204</td>\n",
              "      <td>7.603200e+07</td>\n",
              "      <td>3291</td>\n",
              "    </tr>\n",
              "    <tr>\n",
              "      <th>4153</th>\n",
              "      <td>109.0</td>\n",
              "      <td>4.409852e+06</td>\n",
              "      <td>4.600554e+07</td>\n",
              "      <td>39.370079</td>\n",
              "      <td>787.400000</td>\n",
              "      <td>2578.740155</td>\n",
              "      <td>4800.000000</td>\n",
              "      <td>4.803152e+08</td>\n",
              "      <td>4252</td>\n",
              "    </tr>\n",
              "    <tr>\n",
              "      <th>4875</th>\n",
              "      <td>5.0</td>\n",
              "      <td>9.710384e+05</td>\n",
              "      <td>2.169188e+06</td>\n",
              "      <td>800.000000</td>\n",
              "      <td>984.251967</td>\n",
              "      <td>1003.935000</td>\n",
              "      <td>1003.935000</td>\n",
              "      <td>4.851400e+06</td>\n",
              "      <td>5011</td>\n",
              "    </tr>\n",
              "    <tr>\n",
              "      <th>4880</th>\n",
              "      <td>29.0</td>\n",
              "      <td>2.064101e+05</td>\n",
              "      <td>1.108688e+06</td>\n",
              "      <td>98.000000</td>\n",
              "      <td>196.850393</td>\n",
              "      <td>600.000000</td>\n",
              "      <td>700.000000</td>\n",
              "      <td>5.971000e+06</td>\n",
              "      <td>5016</td>\n",
              "    </tr>\n",
              "    <tr>\n",
              "      <th>4884</th>\n",
              "      <td>48.0</td>\n",
              "      <td>4.592989e+05</td>\n",
              "      <td>1.911925e+06</td>\n",
              "      <td>98.000000</td>\n",
              "      <td>500.000000</td>\n",
              "      <td>701.000000</td>\n",
              "      <td>790.551180</td>\n",
              "      <td>1.010220e+07</td>\n",
              "      <td>5020</td>\n",
              "    </tr>\n",
              "    <tr>\n",
              "      <th>5019</th>\n",
              "      <td>53.0</td>\n",
              "      <td>3.062593e+05</td>\n",
              "      <td>2.225157e+06</td>\n",
              "      <td>118.110236</td>\n",
              "      <td>472.440944</td>\n",
              "      <td>590.551180</td>\n",
              "      <td>649.606299</td>\n",
              "      <td>1.620000e+07</td>\n",
              "      <td>5164</td>\n",
              "    </tr>\n",
              "    <tr>\n",
              "      <th>5315</th>\n",
              "      <td>184.0</td>\n",
              "      <td>3.531888e+05</td>\n",
              "      <td>3.012378e+06</td>\n",
              "      <td>6.000000</td>\n",
              "      <td>393.700787</td>\n",
              "      <td>575.000000</td>\n",
              "      <td>1199.999999</td>\n",
              "      <td>3.600000e+07</td>\n",
              "      <td>5471</td>\n",
              "    </tr>\n",
              "    <tr>\n",
              "      <th>5343</th>\n",
              "      <td>11.0</td>\n",
              "      <td>1.077975e+06</td>\n",
              "      <td>3.559742e+06</td>\n",
              "      <td>2200.000000</td>\n",
              "      <td>3600.000000</td>\n",
              "      <td>4200.000000</td>\n",
              "      <td>4765.000000</td>\n",
              "      <td>1.181100e+07</td>\n",
              "      <td>5500</td>\n",
              "    </tr>\n",
              "    <tr>\n",
              "      <th>5848</th>\n",
              "      <td>4390.0</td>\n",
              "      <td>4.318839e+05</td>\n",
              "      <td>2.846185e+07</td>\n",
              "      <td>1.000000</td>\n",
              "      <td>452.755905</td>\n",
              "      <td>1250.000000</td>\n",
              "      <td>2303.149604</td>\n",
              "      <td>1.885801e+09</td>\n",
              "      <td>6030</td>\n",
              "    </tr>\n",
              "    <tr>\n",
              "      <th>6242</th>\n",
              "      <td>1968.0</td>\n",
              "      <td>3.341477e+04</td>\n",
              "      <td>1.428255e+06</td>\n",
              "      <td>3.937000</td>\n",
              "      <td>314.960000</td>\n",
              "      <td>511.811023</td>\n",
              "      <td>708.661417</td>\n",
              "      <td>6.336000e+07</td>\n",
              "      <td>6426</td>\n",
              "    </tr>\n",
              "    <tr>\n",
              "      <th>6431</th>\n",
              "      <td>18.0</td>\n",
              "      <td>9.371237e+05</td>\n",
              "      <td>3.971420e+06</td>\n",
              "      <td>236.220472</td>\n",
              "      <td>722.439893</td>\n",
              "      <td>1074.747000</td>\n",
              "      <td>1522.361500</td>\n",
              "      <td>1.685036e+07</td>\n",
              "      <td>6618</td>\n",
              "    </tr>\n",
              "    <tr>\n",
              "      <th>8974</th>\n",
              "      <td>51.0</td>\n",
              "      <td>1.494016e+06</td>\n",
              "      <td>1.064617e+07</td>\n",
              "      <td>39.370079</td>\n",
              "      <td>513.779527</td>\n",
              "      <td>787.401574</td>\n",
              "      <td>1712.595000</td>\n",
              "      <td>7.603200e+07</td>\n",
              "      <td>9308</td>\n",
              "    </tr>\n",
              "    <tr>\n",
              "      <th>9781</th>\n",
              "      <td>353.0</td>\n",
              "      <td>1.798534e+05</td>\n",
              "      <td>3.372293e+06</td>\n",
              "      <td>39.370000</td>\n",
              "      <td>157.480315</td>\n",
              "      <td>275.590551</td>\n",
              "      <td>450.000000</td>\n",
              "      <td>6.336000e+07</td>\n",
              "      <td>10162</td>\n",
              "    </tr>\n",
              "    <tr>\n",
              "      <th>10786</th>\n",
              "      <td>545.0</td>\n",
              "      <td>3.589084e+05</td>\n",
              "      <td>6.295099e+06</td>\n",
              "      <td>2.000000</td>\n",
              "      <td>140.000000</td>\n",
              "      <td>236.220472</td>\n",
              "      <td>420.000000</td>\n",
              "      <td>1.440000e+08</td>\n",
              "      <td>11191</td>\n",
              "    </tr>\n",
              "    <tr>\n",
              "      <th>10980</th>\n",
              "      <td>102.0</td>\n",
              "      <td>3.658706e+05</td>\n",
              "      <td>3.563302e+06</td>\n",
              "      <td>39.370079</td>\n",
              "      <td>393.700787</td>\n",
              "      <td>669.145669</td>\n",
              "      <td>35433.000000</td>\n",
              "      <td>3.600000e+07</td>\n",
              "      <td>11396</td>\n",
              "    </tr>\n",
              "    <tr>\n",
              "      <th>10982</th>\n",
              "      <td>1876.0</td>\n",
              "      <td>1.020360e+05</td>\n",
              "      <td>1.199822e+06</td>\n",
              "      <td>15.748031</td>\n",
              "      <td>390.000000</td>\n",
              "      <td>472.440944</td>\n",
              "      <td>669.467500</td>\n",
              "      <td>3.600000e+07</td>\n",
              "      <td>11398</td>\n",
              "    </tr>\n",
              "    <tr>\n",
              "      <th>11173</th>\n",
              "      <td>448.0</td>\n",
              "      <td>3.967988e+05</td>\n",
              "      <td>8.381702e+06</td>\n",
              "      <td>15.748000</td>\n",
              "      <td>393.700787</td>\n",
              "      <td>684.645669</td>\n",
              "      <td>1023.622046</td>\n",
              "      <td>1.774080e+08</td>\n",
              "      <td>11601</td>\n",
              "    </tr>\n",
              "    <tr>\n",
              "      <th>11613</th>\n",
              "      <td>175.0</td>\n",
              "      <td>2.250286e+06</td>\n",
              "      <td>2.976096e+07</td>\n",
              "      <td>39.370079</td>\n",
              "      <td>236.220472</td>\n",
              "      <td>401.574000</td>\n",
              "      <td>629.921259</td>\n",
              "      <td>3.937010e+08</td>\n",
              "      <td>12069</td>\n",
              "    </tr>\n",
              "    <tr>\n",
              "      <th>12852</th>\n",
              "      <td>12.0</td>\n",
              "      <td>1.164731e+06</td>\n",
              "      <td>2.917011e+06</td>\n",
              "      <td>39.370079</td>\n",
              "      <td>500.000000</td>\n",
              "      <td>1180.000000</td>\n",
              "      <td>1239.330708</td>\n",
              "      <td>9.466000e+06</td>\n",
              "      <td>13362</td>\n",
              "    </tr>\n",
              "  </tbody>\n",
              "</table>\n",
              "</div>\n",
              "      <button class=\"colab-df-convert\" onclick=\"convertToInteractive('df-e2e5f788-922b-441b-a7b5-6dfc93b64c39')\"\n",
              "              title=\"Convert this dataframe to an interactive table.\"\n",
              "              style=\"display:none;\">\n",
              "        \n",
              "  <svg xmlns=\"http://www.w3.org/2000/svg\" height=\"24px\"viewBox=\"0 0 24 24\"\n",
              "       width=\"24px\">\n",
              "    <path d=\"M0 0h24v24H0V0z\" fill=\"none\"/>\n",
              "    <path d=\"M18.56 5.44l.94 2.06.94-2.06 2.06-.94-2.06-.94-.94-2.06-.94 2.06-2.06.94zm-11 1L8.5 8.5l.94-2.06 2.06-.94-2.06-.94L8.5 2.5l-.94 2.06-2.06.94zm10 10l.94 2.06.94-2.06 2.06-.94-2.06-.94-.94-2.06-.94 2.06-2.06.94z\"/><path d=\"M17.41 7.96l-1.37-1.37c-.4-.4-.92-.59-1.43-.59-.52 0-1.04.2-1.43.59L10.3 9.45l-7.72 7.72c-.78.78-.78 2.05 0 2.83L4 21.41c.39.39.9.59 1.41.59.51 0 1.02-.2 1.41-.59l7.78-7.78 2.81-2.81c.8-.78.8-2.07 0-2.86zM5.41 20L4 18.59l7.72-7.72 1.47 1.35L5.41 20z\"/>\n",
              "  </svg>\n",
              "      </button>\n",
              "      \n",
              "  <style>\n",
              "    .colab-df-container {\n",
              "      display:flex;\n",
              "      flex-wrap:wrap;\n",
              "      gap: 12px;\n",
              "    }\n",
              "\n",
              "    .colab-df-convert {\n",
              "      background-color: #E8F0FE;\n",
              "      border: none;\n",
              "      border-radius: 50%;\n",
              "      cursor: pointer;\n",
              "      display: none;\n",
              "      fill: #1967D2;\n",
              "      height: 32px;\n",
              "      padding: 0 0 0 0;\n",
              "      width: 32px;\n",
              "    }\n",
              "\n",
              "    .colab-df-convert:hover {\n",
              "      background-color: #E2EBFA;\n",
              "      box-shadow: 0px 1px 2px rgba(60, 64, 67, 0.3), 0px 1px 3px 1px rgba(60, 64, 67, 0.15);\n",
              "      fill: #174EA6;\n",
              "    }\n",
              "\n",
              "    [theme=dark] .colab-df-convert {\n",
              "      background-color: #3B4455;\n",
              "      fill: #D2E3FC;\n",
              "    }\n",
              "\n",
              "    [theme=dark] .colab-df-convert:hover {\n",
              "      background-color: #434B5C;\n",
              "      box-shadow: 0px 1px 3px 1px rgba(0, 0, 0, 0.15);\n",
              "      filter: drop-shadow(0px 1px 2px rgba(0, 0, 0, 0.3));\n",
              "      fill: #FFFFFF;\n",
              "    }\n",
              "  </style>\n",
              "\n",
              "      <script>\n",
              "        const buttonEl =\n",
              "          document.querySelector('#df-e2e5f788-922b-441b-a7b5-6dfc93b64c39 button.colab-df-convert');\n",
              "        buttonEl.style.display =\n",
              "          google.colab.kernel.accessAllowed ? 'block' : 'none';\n",
              "\n",
              "        async function convertToInteractive(key) {\n",
              "          const element = document.querySelector('#df-e2e5f788-922b-441b-a7b5-6dfc93b64c39');\n",
              "          const dataTable =\n",
              "            await google.colab.kernel.invokeFunction('convertToInteractive',\n",
              "                                                     [key], {});\n",
              "          if (!dataTable) return;\n",
              "\n",
              "          const docLinkHtml = 'Like what you see? Visit the ' +\n",
              "            '<a target=\"_blank\" href=https://colab.research.google.com/notebooks/data_table.ipynb>data table notebook</a>'\n",
              "            + ' to learn more about interactive tables.';\n",
              "          element.innerHTML = '';\n",
              "          dataTable['output_type'] = 'display_data';\n",
              "          await google.colab.output.renderOutput(dataTable, element);\n",
              "          const docLink = document.createElement('div');\n",
              "          docLink.innerHTML = docLinkHtml;\n",
              "          element.appendChild(docLink);\n",
              "        }\n",
              "      </script>\n",
              "    </div>\n",
              "  </div>\n",
              "  "
            ]
          },
          "metadata": {},
          "execution_count": 52
        }
      ]
    },
    {
      "cell_type": "code",
      "source": [],
      "metadata": {
        "id": "x6IWzeW0JTj3"
      },
      "execution_count": null,
      "outputs": []
    }
  ]
}